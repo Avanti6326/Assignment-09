{
 "cells": [
  {
   "cell_type": "code",
   "execution_count": 1,
   "id": "be977e83",
   "metadata": {},
   "outputs": [],
   "source": [
    "import pandas as pd\n",
    "import numpy as np\n",
    "import matplotlib.pyplot as plt\n",
    "import seaborn as sns\n",
    "from mlxtend.preprocessing import TransactionEncoder\n",
    "from mlxtend.frequent_patterns import apriori\n",
    "from mlxtend.frequent_patterns import fpgrowth\n",
    "from mlxtend.frequent_patterns import association_rules"
   ]
  },
  {
   "cell_type": "code",
   "execution_count": 2,
   "id": "bb097cd3",
   "metadata": {},
   "outputs": [
    {
     "name": "stdout",
     "output_type": "stream",
     "text": [
      "Defaulting to user installation because normal site-packages is not writeable\n",
      "Requirement already satisfied: mlxtend in c:\\users\\anuj m\\appdata\\roaming\\python\\python39\\site-packages (0.21.0)\n",
      "Requirement already satisfied: numpy>=1.16.2 in c:\\programdata\\anaconda3\\lib\\site-packages (from mlxtend) (1.21.5)\n",
      "Requirement already satisfied: setuptools in c:\\programdata\\anaconda3\\lib\\site-packages (from mlxtend) (61.2.0)\n",
      "Requirement already satisfied: pandas>=0.24.2 in c:\\programdata\\anaconda3\\lib\\site-packages (from mlxtend) (1.4.2)\n",
      "Requirement already satisfied: joblib>=0.13.2 in c:\\programdata\\anaconda3\\lib\\site-packages (from mlxtend) (1.1.0)\n",
      "Requirement already satisfied: scipy>=1.2.1 in c:\\programdata\\anaconda3\\lib\\site-packages (from mlxtend) (1.7.3)\n",
      "Requirement already satisfied: matplotlib>=3.0.0 in c:\\programdata\\anaconda3\\lib\\site-packages (from mlxtend) (3.5.1)\n",
      "Requirement already satisfied: scikit-learn>=1.0.2 in c:\\programdata\\anaconda3\\lib\\site-packages (from mlxtend) (1.0.2)\n",
      "Requirement already satisfied: cycler>=0.10 in c:\\programdata\\anaconda3\\lib\\site-packages (from matplotlib>=3.0.0->mlxtend) (0.11.0)\n",
      "Requirement already satisfied: pillow>=6.2.0 in c:\\programdata\\anaconda3\\lib\\site-packages (from matplotlib>=3.0.0->mlxtend) (9.0.1)\n",
      "Requirement already satisfied: python-dateutil>=2.7 in c:\\programdata\\anaconda3\\lib\\site-packages (from matplotlib>=3.0.0->mlxtend) (2.8.2)\n",
      "Requirement already satisfied: kiwisolver>=1.0.1 in c:\\programdata\\anaconda3\\lib\\site-packages (from matplotlib>=3.0.0->mlxtend) (1.3.2)\n",
      "Requirement already satisfied: fonttools>=4.22.0 in c:\\programdata\\anaconda3\\lib\\site-packages (from matplotlib>=3.0.0->mlxtend) (4.25.0)\n",
      "Requirement already satisfied: packaging>=20.0 in c:\\programdata\\anaconda3\\lib\\site-packages (from matplotlib>=3.0.0->mlxtend) (21.3)\n",
      "Requirement already satisfied: pyparsing>=2.2.1 in c:\\programdata\\anaconda3\\lib\\site-packages (from matplotlib>=3.0.0->mlxtend) (3.0.4)\n",
      "Requirement already satisfied: pytz>=2020.1 in c:\\programdata\\anaconda3\\lib\\site-packages (from pandas>=0.24.2->mlxtend) (2021.3)\n",
      "Requirement already satisfied: six>=1.5 in c:\\programdata\\anaconda3\\lib\\site-packages (from python-dateutil>=2.7->matplotlib>=3.0.0->mlxtend) (1.16.0)\n",
      "Requirement already satisfied: threadpoolctl>=2.0.0 in c:\\programdata\\anaconda3\\lib\\site-packages (from scikit-learn>=1.0.2->mlxtend) (2.2.0)\n"
     ]
    }
   ],
   "source": [
    "!pip install mlxtend\n"
   ]
  },
  {
   "cell_type": "code",
   "execution_count": 3,
   "id": "ebde0dec",
   "metadata": {},
   "outputs": [
    {
     "data": {
      "text/html": [
       "<div>\n",
       "<style scoped>\n",
       "    .dataframe tbody tr th:only-of-type {\n",
       "        vertical-align: middle;\n",
       "    }\n",
       "\n",
       "    .dataframe tbody tr th {\n",
       "        vertical-align: top;\n",
       "    }\n",
       "\n",
       "    .dataframe thead th {\n",
       "        text-align: right;\n",
       "    }\n",
       "</style>\n",
       "<table border=\"1\" class=\"dataframe\">\n",
       "  <thead>\n",
       "    <tr style=\"text-align: right;\">\n",
       "      <th></th>\n",
       "      <th>ChildBks</th>\n",
       "      <th>YouthBks</th>\n",
       "      <th>CookBks</th>\n",
       "      <th>DoItYBks</th>\n",
       "      <th>RefBks</th>\n",
       "      <th>ArtBks</th>\n",
       "      <th>GeogBks</th>\n",
       "      <th>ItalCook</th>\n",
       "      <th>ItalAtlas</th>\n",
       "      <th>ItalArt</th>\n",
       "      <th>Florence</th>\n",
       "    </tr>\n",
       "  </thead>\n",
       "  <tbody>\n",
       "    <tr>\n",
       "      <th>0</th>\n",
       "      <td>0</td>\n",
       "      <td>1</td>\n",
       "      <td>0</td>\n",
       "      <td>1</td>\n",
       "      <td>0</td>\n",
       "      <td>0</td>\n",
       "      <td>1</td>\n",
       "      <td>0</td>\n",
       "      <td>0</td>\n",
       "      <td>0</td>\n",
       "      <td>0</td>\n",
       "    </tr>\n",
       "    <tr>\n",
       "      <th>1</th>\n",
       "      <td>1</td>\n",
       "      <td>0</td>\n",
       "      <td>0</td>\n",
       "      <td>0</td>\n",
       "      <td>0</td>\n",
       "      <td>0</td>\n",
       "      <td>0</td>\n",
       "      <td>0</td>\n",
       "      <td>0</td>\n",
       "      <td>0</td>\n",
       "      <td>0</td>\n",
       "    </tr>\n",
       "    <tr>\n",
       "      <th>2</th>\n",
       "      <td>0</td>\n",
       "      <td>0</td>\n",
       "      <td>0</td>\n",
       "      <td>0</td>\n",
       "      <td>0</td>\n",
       "      <td>0</td>\n",
       "      <td>0</td>\n",
       "      <td>0</td>\n",
       "      <td>0</td>\n",
       "      <td>0</td>\n",
       "      <td>0</td>\n",
       "    </tr>\n",
       "    <tr>\n",
       "      <th>3</th>\n",
       "      <td>1</td>\n",
       "      <td>1</td>\n",
       "      <td>1</td>\n",
       "      <td>0</td>\n",
       "      <td>1</td>\n",
       "      <td>0</td>\n",
       "      <td>1</td>\n",
       "      <td>0</td>\n",
       "      <td>0</td>\n",
       "      <td>0</td>\n",
       "      <td>0</td>\n",
       "    </tr>\n",
       "    <tr>\n",
       "      <th>4</th>\n",
       "      <td>0</td>\n",
       "      <td>0</td>\n",
       "      <td>1</td>\n",
       "      <td>0</td>\n",
       "      <td>0</td>\n",
       "      <td>0</td>\n",
       "      <td>1</td>\n",
       "      <td>0</td>\n",
       "      <td>0</td>\n",
       "      <td>0</td>\n",
       "      <td>0</td>\n",
       "    </tr>\n",
       "  </tbody>\n",
       "</table>\n",
       "</div>"
      ],
      "text/plain": [
       "   ChildBks  YouthBks  CookBks  DoItYBks  RefBks  ArtBks  GeogBks  ItalCook  \\\n",
       "0         0         1        0         1       0       0        1         0   \n",
       "1         1         0        0         0       0       0        0         0   \n",
       "2         0         0        0         0       0       0        0         0   \n",
       "3         1         1        1         0       1       0        1         0   \n",
       "4         0         0        1         0       0       0        1         0   \n",
       "\n",
       "   ItalAtlas  ItalArt  Florence  \n",
       "0          0        0         0  \n",
       "1          0        0         0  \n",
       "2          0        0         0  \n",
       "3          0        0         0  \n",
       "4          0        0         0  "
      ]
     },
     "execution_count": 3,
     "metadata": {},
     "output_type": "execute_result"
    }
   ],
   "source": [
    "book = pd.read_csv('https://excelr.s3.nl-ams.scw.cloud/DataScience-Assignments/Assignments/association%20rules/book.csv')\n",
    "book.head()"
   ]
  },
  {
   "cell_type": "code",
   "execution_count": 4,
   "id": "2b8a142f",
   "metadata": {},
   "outputs": [
    {
     "data": {
      "text/plain": [
       "(2000, 11)"
      ]
     },
     "execution_count": 4,
     "metadata": {},
     "output_type": "execute_result"
    }
   ],
   "source": [
    "book.shape"
   ]
  },
  {
   "cell_type": "code",
   "execution_count": null,
   "id": "8df54f49",
   "metadata": {},
   "outputs": [],
   "source": [
    "##Aprori Algorithm"
   ]
  },
  {
   "cell_type": "code",
   "execution_count": 5,
   "id": "2b560d9c",
   "metadata": {},
   "outputs": [
    {
     "name": "stderr",
     "output_type": "stream",
     "text": [
      "C:\\Users\\Anuj M\\AppData\\Roaming\\Python\\Python39\\site-packages\\mlxtend\\frequent_patterns\\fpcommon.py:111: DeprecationWarning: DataFrames with non-bool types result in worse computationalperformance and their support might be discontinued in the future.Please use a DataFrame with bool type\n",
      "  warnings.warn(\n"
     ]
    }
   ],
   "source": [
    "frequent_itemsets_ap = apriori(book, min_support = 0.1)"
   ]
  },
  {
   "cell_type": "code",
   "execution_count": 6,
   "id": "8c898fb5",
   "metadata": {},
   "outputs": [
    {
     "name": "stdout",
     "output_type": "stream",
     "text": [
      "39\n"
     ]
    }
   ],
   "source": [
    "print(len(frequent_itemsets_ap))"
   ]
  },
  {
   "cell_type": "code",
   "execution_count": 7,
   "id": "85b98a11",
   "metadata": {},
   "outputs": [
    {
     "name": "stdout",
     "output_type": "stream",
     "text": [
      "\r",
      "Processing 72 combinations | Sampling itemset size 2\r",
      "Processing 153 combinations | Sampling itemset size 3\r",
      "Processing 44 combinations | Sampling itemset size 4\n",
      "   support    itemsets\n",
      "0   0.4230  (ChildBks)\n",
      "1   0.2475  (YouthBks)\n",
      "2   0.4310   (CookBks)\n",
      "3   0.2820  (DoItYBks)\n",
      "4   0.2145    (RefBks)\n"
     ]
    },
    {
     "name": "stderr",
     "output_type": "stream",
     "text": [
      "C:\\Users\\Anuj M\\AppData\\Roaming\\Python\\Python39\\site-packages\\mlxtend\\frequent_patterns\\fpcommon.py:111: DeprecationWarning: DataFrames with non-bool types result in worse computationalperformance and their support might be discontinued in the future.Please use a DataFrame with bool type\n",
      "  warnings.warn(\n"
     ]
    }
   ],
   "source": [
    "frequent_itemsets_ap = apriori(book, min_support=0.1, use_colnames= True, verbose=1)\n",
    "print(frequent_itemsets_ap.head())"
   ]
  },
  {
   "cell_type": "code",
   "execution_count": 8,
   "id": "3d83fb3e",
   "metadata": {},
   "outputs": [
    {
     "data": {
      "text/html": [
       "<div>\n",
       "<style scoped>\n",
       "    .dataframe tbody tr th:only-of-type {\n",
       "        vertical-align: middle;\n",
       "    }\n",
       "\n",
       "    .dataframe tbody tr th {\n",
       "        vertical-align: top;\n",
       "    }\n",
       "\n",
       "    .dataframe thead th {\n",
       "        text-align: right;\n",
       "    }\n",
       "</style>\n",
       "<table border=\"1\" class=\"dataframe\">\n",
       "  <thead>\n",
       "    <tr style=\"text-align: right;\">\n",
       "      <th></th>\n",
       "      <th>support</th>\n",
       "      <th>itemsets</th>\n",
       "    </tr>\n",
       "  </thead>\n",
       "  <tbody>\n",
       "    <tr>\n",
       "      <th>2</th>\n",
       "      <td>0.431</td>\n",
       "      <td>(CookBks)</td>\n",
       "    </tr>\n",
       "    <tr>\n",
       "      <th>0</th>\n",
       "      <td>0.423</td>\n",
       "      <td>(ChildBks)</td>\n",
       "    </tr>\n",
       "    <tr>\n",
       "      <th>3</th>\n",
       "      <td>0.282</td>\n",
       "      <td>(DoItYBks)</td>\n",
       "    </tr>\n",
       "    <tr>\n",
       "      <th>6</th>\n",
       "      <td>0.276</td>\n",
       "      <td>(GeogBks)</td>\n",
       "    </tr>\n",
       "    <tr>\n",
       "      <th>10</th>\n",
       "      <td>0.256</td>\n",
       "      <td>(ChildBks, CookBks)</td>\n",
       "    </tr>\n",
       "  </tbody>\n",
       "</table>\n",
       "</div>"
      ],
      "text/plain": [
       "    support             itemsets\n",
       "2     0.431            (CookBks)\n",
       "0     0.423           (ChildBks)\n",
       "3     0.282           (DoItYBks)\n",
       "6     0.276            (GeogBks)\n",
       "10    0.256  (ChildBks, CookBks)"
      ]
     },
     "execution_count": 8,
     "metadata": {},
     "output_type": "execute_result"
    }
   ],
   "source": [
    "frequent_itemsets_ap.sort_values(\"support\", ascending = False).head()"
   ]
  },
  {
   "cell_type": "code",
   "execution_count": 9,
   "id": "e5baf502",
   "metadata": {},
   "outputs": [
    {
     "name": "stdout",
     "output_type": "stream",
     "text": [
      "  antecedents consequents  antecedent support  consequent support  support  \\\n",
      "0  (YouthBks)  (ChildBks)              0.2475               0.423    0.165   \n",
      "1  (ChildBks)   (CookBks)              0.4230               0.431    0.256   \n",
      "2   (CookBks)  (ChildBks)              0.4310               0.423    0.256   \n",
      "3  (ChildBks)  (DoItYBks)              0.4230               0.282    0.184   \n",
      "4  (DoItYBks)  (ChildBks)              0.2820               0.423    0.184   \n",
      "\n",
      "   confidence      lift  leverage  conviction  \n",
      "0    0.666667  1.576044  0.060308    1.731000  \n",
      "1    0.605201  1.404179  0.073687    1.441240  \n",
      "2    0.593968  1.404179  0.073687    1.421069  \n",
      "3    0.434988  1.542511  0.064714    1.270770  \n",
      "4    0.652482  1.542511  0.064714    1.660347  \n"
     ]
    }
   ],
   "source": [
    "rules_ap = association_rules(frequent_itemsets_ap, metric= \"confidence\", min_threshold=0.4)\n",
    "print(rules_ap.head())"
   ]
  },
  {
   "cell_type": "code",
   "execution_count": 10,
   "id": "2955794a",
   "metadata": {},
   "outputs": [
    {
     "data": {
      "text/plain": [
       "(70, 9)"
      ]
     },
     "execution_count": 10,
     "metadata": {},
     "output_type": "execute_result"
    }
   ],
   "source": [
    "\n",
    "rules_ap[(rules_ap.support > 0.015) & (rules_ap.confidence > 0.4)].sort_values(\"confidence\", ascending = False).shape"
   ]
  },
  {
   "cell_type": "code",
   "execution_count": 11,
   "id": "74533c0d",
   "metadata": {},
   "outputs": [
    {
     "data": {
      "text/html": [
       "<div>\n",
       "<style scoped>\n",
       "    .dataframe tbody tr th:only-of-type {\n",
       "        vertical-align: middle;\n",
       "    }\n",
       "\n",
       "    .dataframe tbody tr th {\n",
       "        vertical-align: top;\n",
       "    }\n",
       "\n",
       "    .dataframe thead th {\n",
       "        text-align: right;\n",
       "    }\n",
       "</style>\n",
       "<table border=\"1\" class=\"dataframe\">\n",
       "  <thead>\n",
       "    <tr style=\"text-align: right;\">\n",
       "      <th></th>\n",
       "      <th>antecedents</th>\n",
       "      <th>consequents</th>\n",
       "      <th>antecedent support</th>\n",
       "      <th>consequent support</th>\n",
       "      <th>support</th>\n",
       "      <th>confidence</th>\n",
       "      <th>lift</th>\n",
       "      <th>leverage</th>\n",
       "      <th>conviction</th>\n",
       "      <th>lhs items</th>\n",
       "    </tr>\n",
       "  </thead>\n",
       "  <tbody>\n",
       "    <tr>\n",
       "      <th>55</th>\n",
       "      <td>(ChildBks, ArtBks)</td>\n",
       "      <td>(GeogBks)</td>\n",
       "      <td>0.1625</td>\n",
       "      <td>0.2760</td>\n",
       "      <td>0.1020</td>\n",
       "      <td>0.627692</td>\n",
       "      <td>2.274247</td>\n",
       "      <td>0.057150</td>\n",
       "      <td>1.944628</td>\n",
       "      <td>2</td>\n",
       "    </tr>\n",
       "    <tr>\n",
       "      <th>60</th>\n",
       "      <td>(CookBks, DoItYBks)</td>\n",
       "      <td>(ArtBks)</td>\n",
       "      <td>0.1875</td>\n",
       "      <td>0.2410</td>\n",
       "      <td>0.1015</td>\n",
       "      <td>0.541333</td>\n",
       "      <td>2.246196</td>\n",
       "      <td>0.056313</td>\n",
       "      <td>1.654797</td>\n",
       "      <td>2</td>\n",
       "    </tr>\n",
       "    <tr>\n",
       "      <th>66</th>\n",
       "      <td>(CookBks, ArtBks)</td>\n",
       "      <td>(GeogBks)</td>\n",
       "      <td>0.1670</td>\n",
       "      <td>0.2760</td>\n",
       "      <td>0.1035</td>\n",
       "      <td>0.619760</td>\n",
       "      <td>2.245509</td>\n",
       "      <td>0.057408</td>\n",
       "      <td>1.904063</td>\n",
       "      <td>2</td>\n",
       "    </tr>\n",
       "    <tr>\n",
       "      <th>67</th>\n",
       "      <td>(CookBks, GeogBks)</td>\n",
       "      <td>(ArtBks)</td>\n",
       "      <td>0.1925</td>\n",
       "      <td>0.2410</td>\n",
       "      <td>0.1035</td>\n",
       "      <td>0.537662</td>\n",
       "      <td>2.230964</td>\n",
       "      <td>0.057107</td>\n",
       "      <td>1.641657</td>\n",
       "      <td>2</td>\n",
       "    </tr>\n",
       "    <tr>\n",
       "      <th>40</th>\n",
       "      <td>(ChildBks, CookBks)</td>\n",
       "      <td>(RefBks)</td>\n",
       "      <td>0.2560</td>\n",
       "      <td>0.2145</td>\n",
       "      <td>0.1225</td>\n",
       "      <td>0.478516</td>\n",
       "      <td>2.230842</td>\n",
       "      <td>0.067588</td>\n",
       "      <td>1.506277</td>\n",
       "      <td>2</td>\n",
       "    </tr>\n",
       "  </tbody>\n",
       "</table>\n",
       "</div>"
      ],
      "text/plain": [
       "            antecedents consequents  antecedent support  consequent support  \\\n",
       "55   (ChildBks, ArtBks)   (GeogBks)              0.1625              0.2760   \n",
       "60  (CookBks, DoItYBks)    (ArtBks)              0.1875              0.2410   \n",
       "66    (CookBks, ArtBks)   (GeogBks)              0.1670              0.2760   \n",
       "67   (CookBks, GeogBks)    (ArtBks)              0.1925              0.2410   \n",
       "40  (ChildBks, CookBks)    (RefBks)              0.2560              0.2145   \n",
       "\n",
       "    support  confidence      lift  leverage  conviction  lhs items  \n",
       "55   0.1020    0.627692  2.274247  0.057150    1.944628          2  \n",
       "60   0.1015    0.541333  2.246196  0.056313    1.654797          2  \n",
       "66   0.1035    0.619760  2.245509  0.057408    1.904063          2  \n",
       "67   0.1035    0.537662  2.230964  0.057107    1.641657          2  \n",
       "40   0.1225    0.478516  2.230842  0.067588    1.506277          2  "
      ]
     },
     "execution_count": 11,
     "metadata": {},
     "output_type": "execute_result"
    }
   ],
   "source": [
    "\n",
    "rules_ap['lhs items'] = rules_ap['antecedents'].apply(lambda x:len(x) )\n",
    "rules_ap[rules_ap['lhs items']>1].sort_values('lift', ascending=False).head()"
   ]
  },
  {
   "cell_type": "code",
   "execution_count": 12,
   "id": "4e9281d2",
   "metadata": {},
   "outputs": [
    {
     "data": {
      "text/plain": [
       "(array([0.5, 1.5, 2.5, 3.5, 4.5, 5.5, 6.5]),\n",
       " [Text(0.5, 0, 'ArtBks'),\n",
       "  Text(1.5, 0, 'ChildBks'),\n",
       "  Text(2.5, 0, 'CookBks'),\n",
       "  Text(3.5, 0, 'DoItYBks'),\n",
       "  Text(4.5, 0, 'GeogBks'),\n",
       "  Text(5.5, 0, 'RefBks'),\n",
       "  Text(6.5, 0, 'YouthBks')])"
      ]
     },
     "execution_count": 12,
     "metadata": {},
     "output_type": "execute_result"
    },
    {
     "data": {
      "image/png": "[encoded data removed]",
      "text/plain": [
       "<Figure size 432x288 with 2 Axes>"
      ]
     },
     "metadata": {
      "needs_background": "light"
     },
     "output_type": "display_data"
    }
   ],
   "source": [
    "rules_ap['antecedents_'] = rules_ap['antecedents'].apply(lambda a: ','.join(list(a)))\n",
    "rules_ap['consequents_'] = rules_ap['consequents'].apply(lambda a: ','.join(list(a)))\n",
    "# Transform the DataFrame of rules into a matrix using the confidence metric\n",
    "pivot = rules_ap[rules_ap['lhs items']>1].pivot(index = 'antecedents_', \n",
    "                    columns = 'consequents_', values= 'confidence')\n",
    "# Generate a heatmap with annotations \n",
    "sns.heatmap(pivot, annot = True)\n",
    "plt.title('Heat Map - For Confidence Metric')\n",
    "plt.yticks(rotation=0)\n",
    "plt.xticks(rotation=90)"
   ]
  },
  {
   "cell_type": "code",
   "execution_count": 13,
   "id": "94e9d85b",
   "metadata": {},
   "outputs": [
    {
     "name": "stdout",
     "output_type": "stream",
     "text": [
      "(100, 9)\n"
     ]
    }
   ],
   "source": [
    "rules_ap_li = association_rules(frequent_itemsets_ap, metric=\"lift\", min_threshold=0.6)\n",
    "print(rules_ap_li.shape)"
   ]
  },
  {
   "cell_type": "code",
   "execution_count": 14,
   "id": "16cb2e87",
   "metadata": {},
   "outputs": [
    {
     "data": {
      "text/html": [
       "<div>\n",
       "<style scoped>\n",
       "    .dataframe tbody tr th:only-of-type {\n",
       "        vertical-align: middle;\n",
       "    }\n",
       "\n",
       "    .dataframe tbody tr th {\n",
       "        vertical-align: top;\n",
       "    }\n",
       "\n",
       "    .dataframe thead th {\n",
       "        text-align: right;\n",
       "    }\n",
       "</style>\n",
       "<table border=\"1\" class=\"dataframe\">\n",
       "  <thead>\n",
       "    <tr style=\"text-align: right;\">\n",
       "      <th></th>\n",
       "      <th>antecedents</th>\n",
       "      <th>consequents</th>\n",
       "      <th>antecedent support</th>\n",
       "      <th>consequent support</th>\n",
       "      <th>support</th>\n",
       "      <th>confidence</th>\n",
       "      <th>lift</th>\n",
       "      <th>leverage</th>\n",
       "      <th>conviction</th>\n",
       "      <th>lhs items</th>\n",
       "    </tr>\n",
       "  </thead>\n",
       "  <tbody>\n",
       "    <tr>\n",
       "      <th>76</th>\n",
       "      <td>(ChildBks, ArtBks)</td>\n",
       "      <td>(GeogBks)</td>\n",
       "      <td>0.1625</td>\n",
       "      <td>0.2760</td>\n",
       "      <td>0.1020</td>\n",
       "      <td>0.627692</td>\n",
       "      <td>2.274247</td>\n",
       "      <td>0.057150</td>\n",
       "      <td>1.944628</td>\n",
       "      <td>2</td>\n",
       "    </tr>\n",
       "    <tr>\n",
       "      <th>83</th>\n",
       "      <td>(CookBks, DoItYBks)</td>\n",
       "      <td>(ArtBks)</td>\n",
       "      <td>0.1875</td>\n",
       "      <td>0.2410</td>\n",
       "      <td>0.1015</td>\n",
       "      <td>0.541333</td>\n",
       "      <td>2.246196</td>\n",
       "      <td>0.056313</td>\n",
       "      <td>1.654797</td>\n",
       "      <td>2</td>\n",
       "    </tr>\n",
       "    <tr>\n",
       "      <th>94</th>\n",
       "      <td>(CookBks, ArtBks)</td>\n",
       "      <td>(GeogBks)</td>\n",
       "      <td>0.1670</td>\n",
       "      <td>0.2760</td>\n",
       "      <td>0.1035</td>\n",
       "      <td>0.619760</td>\n",
       "      <td>2.245509</td>\n",
       "      <td>0.057408</td>\n",
       "      <td>1.904063</td>\n",
       "      <td>2</td>\n",
       "    </tr>\n",
       "    <tr>\n",
       "      <th>95</th>\n",
       "      <td>(CookBks, GeogBks)</td>\n",
       "      <td>(ArtBks)</td>\n",
       "      <td>0.1925</td>\n",
       "      <td>0.2410</td>\n",
       "      <td>0.1035</td>\n",
       "      <td>0.537662</td>\n",
       "      <td>2.230964</td>\n",
       "      <td>0.057107</td>\n",
       "      <td>1.641657</td>\n",
       "      <td>2</td>\n",
       "    </tr>\n",
       "    <tr>\n",
       "      <th>52</th>\n",
       "      <td>(ChildBks, CookBks)</td>\n",
       "      <td>(RefBks)</td>\n",
       "      <td>0.2560</td>\n",
       "      <td>0.2145</td>\n",
       "      <td>0.1225</td>\n",
       "      <td>0.478516</td>\n",
       "      <td>2.230842</td>\n",
       "      <td>0.067588</td>\n",
       "      <td>1.506277</td>\n",
       "      <td>2</td>\n",
       "    </tr>\n",
       "  </tbody>\n",
       "</table>\n",
       "</div>"
      ],
      "text/plain": [
       "            antecedents consequents  antecedent support  consequent support  \\\n",
       "76   (ChildBks, ArtBks)   (GeogBks)              0.1625              0.2760   \n",
       "83  (CookBks, DoItYBks)    (ArtBks)              0.1875              0.2410   \n",
       "94    (CookBks, ArtBks)   (GeogBks)              0.1670              0.2760   \n",
       "95   (CookBks, GeogBks)    (ArtBks)              0.1925              0.2410   \n",
       "52  (ChildBks, CookBks)    (RefBks)              0.2560              0.2145   \n",
       "\n",
       "    support  confidence      lift  leverage  conviction  lhs items  \n",
       "76   0.1020    0.627692  2.274247  0.057150    1.944628          2  \n",
       "83   0.1015    0.541333  2.246196  0.056313    1.654797          2  \n",
       "94   0.1035    0.619760  2.245509  0.057408    1.904063          2  \n",
       "95   0.1035    0.537662  2.230964  0.057107    1.641657          2  \n",
       "52   0.1225    0.478516  2.230842  0.067588    1.506277          2  "
      ]
     },
     "execution_count": 14,
     "metadata": {},
     "output_type": "execute_result"
    }
   ],
   "source": [
    "rules_ap_li['lhs items'] = rules_ap_li['antecedents'].apply(lambda x:len(x) )\n",
    "rules_ap_li[rules_ap_li['lhs items']>1].sort_values('lift', ascending=False).head()"
   ]
  },
  {
   "cell_type": "code",
   "execution_count": 15,
   "id": "0b821262",
   "metadata": {},
   "outputs": [
    {
     "data": {
      "text/plain": [
       "(array([0.5, 1.5, 2.5, 3.5, 4.5, 5.5, 6.5]),\n",
       " [Text(0.5, 0, 'ArtBks'),\n",
       "  Text(1.5, 0, 'ChildBks'),\n",
       "  Text(2.5, 0, 'CookBks'),\n",
       "  Text(3.5, 0, 'DoItYBks'),\n",
       "  Text(4.5, 0, 'GeogBks'),\n",
       "  Text(5.5, 0, 'RefBks'),\n",
       "  Text(6.5, 0, 'YouthBks')])"
      ]
     },
     "execution_count": 15,
     "metadata": {},
     "output_type": "execute_result"
    },
    {
     "data": {
      "image/png": "[encoded data removed]",
      "text/plain": [
       "<Figure size 432x288 with 2 Axes>"
      ]
     },
     "metadata": {
      "needs_background": "light"
     },
     "output_type": "display_data"
    }
   ],
   "source": [
    "# Replace frozen sets with strings\n",
    "rules_ap_li['antecedents_'] = rules_ap_li['antecedents'].apply(lambda a: ','.join(list(a)))\n",
    "rules_ap_li['consequents_'] = rules_ap_li['consequents'].apply(lambda a: ','.join(list(a)))\n",
    "# Transform the DataFrame of rules into a matrix using the lift metric\n",
    "pivot = rules_ap_li[rules_ap_li['lhs items']>1].pivot(index = 'antecedents_', \n",
    "                    columns = 'consequents_', values= 'lift')\n",
    "# Generate a heatmap with annotations on and the colorbar off\n",
    "sns.heatmap(pivot, annot = True)\n",
    "plt.title('Heat Map - For Lift Metric')\n",
    "plt.yticks(rotation=0)\n",
    "plt.xticks(rotation=90)"
   ]
  },
  {
   "cell_type": "code",
   "execution_count": null,
   "id": "b5123103",
   "metadata": {},
   "outputs": [],
   "source": [
    "##FpGrowth Algorithm"
   ]
  },
  {
   "cell_type": "code",
   "execution_count": 16,
   "id": "6e3100aa",
   "metadata": {},
   "outputs": [
    {
     "name": "stdout",
     "output_type": "stream",
     "text": [
      "\r",
      "9 itemset(s) from tree conditioned on items ()\n",
      "\r",
      "2 itemset(s) from tree conditioned on items (DoItYBks)\n",
      "\r",
      "1 itemset(s) from tree conditioned on items (DoItYBks, ChildBks)\n",
      "\r",
      "0 itemset(s) from tree conditioned on items (DoItYBks, CookBks)\n",
      "\r",
      "3 itemset(s) from tree conditioned on items (GeogBks)\n",
      "\r",
      "2 itemset(s) from tree conditioned on items (GeogBks, DoItYBks)\n",
      "\r",
      "0 itemset(s) from tree conditioned on items (GeogBks, DoItYBks, CookBks)\n",
      "\r",
      "0 itemset(s) from tree conditioned on items (GeogBks, DoItYBks, ChildBks)\n",
      "\r",
      "0 itemset(s) from tree conditioned on items (GeogBks, ChildBks)\n",
      "\r",
      "1 itemset(s) from tree conditioned on items (GeogBks, CookBks)\n",
      "\r",
      "4 itemset(s) from tree conditioned on items (YouthBks)\n",
      "\r",
      "0 itemset(s) from tree conditioned on items (YouthBks, GeogBks)\n",
      "\r",
      "0 itemset(s) from tree conditioned on items (YouthBks, DoItYBks)\n",
      "\r",
      "0 itemset(s) from tree conditioned on items (YouthBks, ChildBks)\n",
      "\r",
      "1 itemset(s) from tree conditioned on items (YouthBks, CookBks)\n",
      "\r",
      "1 itemset(s) from tree conditioned on items (ChildBks)\n",
      "\r",
      "0 itemset(s) from tree conditioned on items (CookBks)\n",
      "\r",
      "4 itemset(s) from tree conditioned on items (RefBks)\n",
      "\r",
      "0 itemset(s) from tree conditioned on items (RefBks, CookBks)\n",
      "\r",
      "1 itemset(s) from tree conditioned on items (RefBks, ChildBks)\n",
      "\r",
      "0 itemset(s) from tree conditioned on items (RefBks, GeogBks)\n",
      "\r",
      "0 itemset(s) from tree conditioned on items (RefBks, DoItYBks)\n",
      "\r",
      "5 itemset(s) from tree conditioned on items (ArtBks)\n",
      "\r",
      "1 itemset(s) from tree conditioned on items (ArtBks, ChildBks)\n",
      "\r",
      "1 itemset(s) from tree conditioned on items (ArtBks, DoItYBks)\n",
      "\r",
      "0 itemset(s) from tree conditioned on items (ArtBks, YouthBks)\n",
      "\r",
      "0 itemset(s) from tree conditioned on items (ArtBks, CookBks)\n",
      "\r",
      "2 itemset(s) from tree conditioned on items (ArtBks, GeogBks)\n",
      "\r",
      "0 itemset(s) from tree conditioned on items (ArtBks, GeogBks, CookBks)\n",
      "\r",
      "0 itemset(s) from tree conditioned on items (ArtBks, GeogBks, ChildBks)\n",
      "\r",
      "0 itemset(s) from tree conditioned on items (Florence)\n",
      "\r",
      "1 itemset(s) from tree conditioned on items (ItalCook)\n",
      "(39, 2)\n"
     ]
    },
    {
     "name": "stderr",
     "output_type": "stream",
     "text": [
      "C:\\Users\\Anuj M\\AppData\\Roaming\\Python\\Python39\\site-packages\\mlxtend\\frequent_patterns\\fpcommon.py:111: DeprecationWarning: DataFrames with non-bool types result in worse computationalperformance and their support might be discontinued in the future.Please use a DataFrame with bool type\n",
      "  warnings.warn(\n"
     ]
    }
   ],
   "source": [
    "frequent_itemsets_fp=fpgrowth(book, min_support=0.1, use_colnames=True,verbose=1)\n",
    "print(frequent_itemsets_fp.shape)"
   ]
  },
  {
   "cell_type": "code",
   "execution_count": 17,
   "id": "20b98869",
   "metadata": {},
   "outputs": [
    {
     "data": {
      "text/html": [
       "<div>\n",
       "<style scoped>\n",
       "    .dataframe tbody tr th:only-of-type {\n",
       "        vertical-align: middle;\n",
       "    }\n",
       "\n",
       "    .dataframe tbody tr th {\n",
       "        vertical-align: top;\n",
       "    }\n",
       "\n",
       "    .dataframe thead th {\n",
       "        text-align: right;\n",
       "    }\n",
       "</style>\n",
       "<table border=\"1\" class=\"dataframe\">\n",
       "  <thead>\n",
       "    <tr style=\"text-align: right;\">\n",
       "      <th></th>\n",
       "      <th>support</th>\n",
       "      <th>itemsets</th>\n",
       "    </tr>\n",
       "  </thead>\n",
       "  <tbody>\n",
       "    <tr>\n",
       "      <th>4</th>\n",
       "      <td>0.431</td>\n",
       "      <td>(CookBks)</td>\n",
       "    </tr>\n",
       "    <tr>\n",
       "      <th>3</th>\n",
       "      <td>0.423</td>\n",
       "      <td>(ChildBks)</td>\n",
       "    </tr>\n",
       "    <tr>\n",
       "      <th>0</th>\n",
       "      <td>0.282</td>\n",
       "      <td>(DoItYBks)</td>\n",
       "    </tr>\n",
       "    <tr>\n",
       "      <th>1</th>\n",
       "      <td>0.276</td>\n",
       "      <td>(GeogBks)</td>\n",
       "    </tr>\n",
       "    <tr>\n",
       "      <th>23</th>\n",
       "      <td>0.256</td>\n",
       "      <td>(ChildBks, CookBks)</td>\n",
       "    </tr>\n",
       "  </tbody>\n",
       "</table>\n",
       "</div>"
      ],
      "text/plain": [
       "    support             itemsets\n",
       "4     0.431            (CookBks)\n",
       "3     0.423           (ChildBks)\n",
       "0     0.282           (DoItYBks)\n",
       "1     0.276            (GeogBks)\n",
       "23    0.256  (ChildBks, CookBks)"
      ]
     },
     "execution_count": 17,
     "metadata": {},
     "output_type": "execute_result"
    }
   ],
   "source": [
    "frequent_itemsets_fp.sort_values(\"support\", ascending = False).head()"
   ]
  },
  {
   "cell_type": "code",
   "execution_count": 18,
   "id": "1c94c164",
   "metadata": {},
   "outputs": [
    {
     "name": "stdout",
     "output_type": "stream",
     "text": [
      "(49, 9)\n"
     ]
    }
   ],
   "source": [
    "rules_fp = association_rules(frequent_itemsets_fp, metric=\"confidence\", min_threshold=0.5)\n",
    "print(rules_fp.shape)"
   ]
  },
  {
   "cell_type": "code",
   "execution_count": 19,
   "id": "ac53a488",
   "metadata": {},
   "outputs": [
    {
     "data": {
      "text/html": [
       "<div>\n",
       "<style scoped>\n",
       "    .dataframe tbody tr th:only-of-type {\n",
       "        vertical-align: middle;\n",
       "    }\n",
       "\n",
       "    .dataframe tbody tr th {\n",
       "        vertical-align: top;\n",
       "    }\n",
       "\n",
       "    .dataframe thead th {\n",
       "        text-align: right;\n",
       "    }\n",
       "</style>\n",
       "<table border=\"1\" class=\"dataframe\">\n",
       "  <thead>\n",
       "    <tr style=\"text-align: right;\">\n",
       "      <th></th>\n",
       "      <th>antecedents</th>\n",
       "      <th>consequents</th>\n",
       "      <th>antecedent support</th>\n",
       "      <th>consequent support</th>\n",
       "      <th>support</th>\n",
       "      <th>confidence</th>\n",
       "      <th>lift</th>\n",
       "      <th>leverage</th>\n",
       "      <th>conviction</th>\n",
       "    </tr>\n",
       "  </thead>\n",
       "  <tbody>\n",
       "    <tr>\n",
       "      <th>26</th>\n",
       "      <td>(RefBks)</td>\n",
       "      <td>(CookBks)</td>\n",
       "      <td>0.2145</td>\n",
       "      <td>0.431</td>\n",
       "      <td>0.1525</td>\n",
       "      <td>0.710956</td>\n",
       "      <td>1.649549</td>\n",
       "      <td>0.060050</td>\n",
       "      <td>1.968556</td>\n",
       "    </tr>\n",
       "    <tr>\n",
       "      <th>6</th>\n",
       "      <td>(GeogBks)</td>\n",
       "      <td>(ChildBks)</td>\n",
       "      <td>0.2760</td>\n",
       "      <td>0.423</td>\n",
       "      <td>0.1950</td>\n",
       "      <td>0.706522</td>\n",
       "      <td>1.670264</td>\n",
       "      <td>0.078252</td>\n",
       "      <td>1.966074</td>\n",
       "    </tr>\n",
       "    <tr>\n",
       "      <th>27</th>\n",
       "      <td>(RefBks)</td>\n",
       "      <td>(ChildBks)</td>\n",
       "      <td>0.2145</td>\n",
       "      <td>0.423</td>\n",
       "      <td>0.1515</td>\n",
       "      <td>0.706294</td>\n",
       "      <td>1.669725</td>\n",
       "      <td>0.060767</td>\n",
       "      <td>1.964548</td>\n",
       "    </tr>\n",
       "    <tr>\n",
       "      <th>7</th>\n",
       "      <td>(GeogBks)</td>\n",
       "      <td>(CookBks)</td>\n",
       "      <td>0.2760</td>\n",
       "      <td>0.431</td>\n",
       "      <td>0.1925</td>\n",
       "      <td>0.697464</td>\n",
       "      <td>1.618245</td>\n",
       "      <td>0.073544</td>\n",
       "      <td>1.880766</td>\n",
       "    </tr>\n",
       "    <tr>\n",
       "      <th>34</th>\n",
       "      <td>(ArtBks)</td>\n",
       "      <td>(CookBks)</td>\n",
       "      <td>0.2410</td>\n",
       "      <td>0.431</td>\n",
       "      <td>0.1670</td>\n",
       "      <td>0.692946</td>\n",
       "      <td>1.607763</td>\n",
       "      <td>0.063129</td>\n",
       "      <td>1.853095</td>\n",
       "    </tr>\n",
       "  </tbody>\n",
       "</table>\n",
       "</div>"
      ],
      "text/plain": [
       "   antecedents consequents  antecedent support  consequent support  support  \\\n",
       "26    (RefBks)   (CookBks)              0.2145               0.431   0.1525   \n",
       "6    (GeogBks)  (ChildBks)              0.2760               0.423   0.1950   \n",
       "27    (RefBks)  (ChildBks)              0.2145               0.423   0.1515   \n",
       "7    (GeogBks)   (CookBks)              0.2760               0.431   0.1925   \n",
       "34    (ArtBks)   (CookBks)              0.2410               0.431   0.1670   \n",
       "\n",
       "    confidence      lift  leverage  conviction  \n",
       "26    0.710956  1.649549  0.060050    1.968556  \n",
       "6     0.706522  1.670264  0.078252    1.966074  \n",
       "27    0.706294  1.669725  0.060767    1.964548  \n",
       "7     0.697464  1.618245  0.073544    1.880766  \n",
       "34    0.692946  1.607763  0.063129    1.853095  "
      ]
     },
     "execution_count": 19,
     "metadata": {},
     "output_type": "execute_result"
    }
   ],
   "source": [
    "rules_fp[(rules_fp.support > 0.15) & (rules_fp.confidence > 0.4)].sort_values(\"confidence\", ascending = False).head()"
   ]
  },
  {
   "cell_type": "code",
   "execution_count": 20,
   "id": "81a5c688",
   "metadata": {},
   "outputs": [
    {
     "data": {
      "text/html": [
       "<div>\n",
       "<style scoped>\n",
       "    .dataframe tbody tr th:only-of-type {\n",
       "        vertical-align: middle;\n",
       "    }\n",
       "\n",
       "    .dataframe tbody tr th {\n",
       "        vertical-align: top;\n",
       "    }\n",
       "\n",
       "    .dataframe thead th {\n",
       "        text-align: right;\n",
       "    }\n",
       "</style>\n",
       "<table border=\"1\" class=\"dataframe\">\n",
       "  <thead>\n",
       "    <tr style=\"text-align: right;\">\n",
       "      <th></th>\n",
       "      <th>antecedents</th>\n",
       "      <th>consequents</th>\n",
       "      <th>antecedent support</th>\n",
       "      <th>consequent support</th>\n",
       "      <th>support</th>\n",
       "      <th>confidence</th>\n",
       "      <th>lift</th>\n",
       "      <th>leverage</th>\n",
       "      <th>conviction</th>\n",
       "      <th>lhs items</th>\n",
       "    </tr>\n",
       "  </thead>\n",
       "  <tbody>\n",
       "    <tr>\n",
       "      <th>45</th>\n",
       "      <td>(ChildBks, ArtBks)</td>\n",
       "      <td>(GeogBks)</td>\n",
       "      <td>0.1625</td>\n",
       "      <td>0.276</td>\n",
       "      <td>0.1020</td>\n",
       "      <td>0.627692</td>\n",
       "      <td>2.274247</td>\n",
       "      <td>0.057150</td>\n",
       "      <td>1.944628</td>\n",
       "      <td>2</td>\n",
       "    </tr>\n",
       "    <tr>\n",
       "      <th>40</th>\n",
       "      <td>(CookBks, DoItYBks)</td>\n",
       "      <td>(ArtBks)</td>\n",
       "      <td>0.1875</td>\n",
       "      <td>0.241</td>\n",
       "      <td>0.1015</td>\n",
       "      <td>0.541333</td>\n",
       "      <td>2.246196</td>\n",
       "      <td>0.056313</td>\n",
       "      <td>1.654797</td>\n",
       "      <td>2</td>\n",
       "    </tr>\n",
       "    <tr>\n",
       "      <th>42</th>\n",
       "      <td>(CookBks, ArtBks)</td>\n",
       "      <td>(GeogBks)</td>\n",
       "      <td>0.1670</td>\n",
       "      <td>0.276</td>\n",
       "      <td>0.1035</td>\n",
       "      <td>0.619760</td>\n",
       "      <td>2.245509</td>\n",
       "      <td>0.057408</td>\n",
       "      <td>1.904063</td>\n",
       "      <td>2</td>\n",
       "    </tr>\n",
       "    <tr>\n",
       "      <th>43</th>\n",
       "      <td>(CookBks, GeogBks)</td>\n",
       "      <td>(ArtBks)</td>\n",
       "      <td>0.1925</td>\n",
       "      <td>0.241</td>\n",
       "      <td>0.1035</td>\n",
       "      <td>0.537662</td>\n",
       "      <td>2.230964</td>\n",
       "      <td>0.057107</td>\n",
       "      <td>1.641657</td>\n",
       "      <td>2</td>\n",
       "    </tr>\n",
       "    <tr>\n",
       "      <th>46</th>\n",
       "      <td>(ChildBks, GeogBks)</td>\n",
       "      <td>(ArtBks)</td>\n",
       "      <td>0.1950</td>\n",
       "      <td>0.241</td>\n",
       "      <td>0.1020</td>\n",
       "      <td>0.523077</td>\n",
       "      <td>2.170444</td>\n",
       "      <td>0.055005</td>\n",
       "      <td>1.591452</td>\n",
       "      <td>2</td>\n",
       "    </tr>\n",
       "  </tbody>\n",
       "</table>\n",
       "</div>"
      ],
      "text/plain": [
       "            antecedents consequents  antecedent support  consequent support  \\\n",
       "45   (ChildBks, ArtBks)   (GeogBks)              0.1625               0.276   \n",
       "40  (CookBks, DoItYBks)    (ArtBks)              0.1875               0.241   \n",
       "42    (CookBks, ArtBks)   (GeogBks)              0.1670               0.276   \n",
       "43   (CookBks, GeogBks)    (ArtBks)              0.1925               0.241   \n",
       "46  (ChildBks, GeogBks)    (ArtBks)              0.1950               0.241   \n",
       "\n",
       "    support  confidence      lift  leverage  conviction  lhs items  \n",
       "45   0.1020    0.627692  2.274247  0.057150    1.944628          2  \n",
       "40   0.1015    0.541333  2.246196  0.056313    1.654797          2  \n",
       "42   0.1035    0.619760  2.245509  0.057408    1.904063          2  \n",
       "43   0.1035    0.537662  2.230964  0.057107    1.641657          2  \n",
       "46   0.1020    0.523077  2.170444  0.055005    1.591452          2  "
      ]
     },
     "execution_count": 20,
     "metadata": {},
     "output_type": "execute_result"
    }
   ],
   "source": [
    "rules_fp['lhs items'] = rules_fp['antecedents'].apply(lambda x:len(x) )\n",
    "rules_fp[rules_fp['lhs items']>1].sort_values('lift', ascending=False).head()"
   ]
  },
  {
   "cell_type": "code",
   "execution_count": 21,
   "id": "b80f011e",
   "metadata": {},
   "outputs": [
    {
     "data": {
      "text/plain": [
       "(array([0.5, 1.5, 2.5, 3.5, 4.5, 5.5]),\n",
       " [Text(0.5, 0, 'ArtBks'),\n",
       "  Text(1.5, 0, 'ChildBks'),\n",
       "  Text(2.5, 0, 'CookBks'),\n",
       "  Text(3.5, 0, 'DoItYBks'),\n",
       "  Text(4.5, 0, 'GeogBks'),\n",
       "  Text(5.5, 0, 'YouthBks')])"
      ]
     },
     "execution_count": 21,
     "metadata": {},
     "output_type": "execute_result"
    },
    {
     "data": {
      "image/png": "[encoded data removed]",
      "text/plain": [
       "<Figure size 432x288 with 2 Axes>"
      ]
     },
     "metadata": {
      "needs_background": "light"
     },
     "output_type": "display_data"
    }
   ],
   "source": [
    "rules_fp['antecedents_'] = rules_fp['antecedents'].apply(lambda a: ','.join(list(a)))\n",
    "rules_fp['consequents_'] = rules_fp['consequents'].apply(lambda a: ','.join(list(a)))\n",
    "# Transform the DataFrame of rules into a matrix using the confidence metric\n",
    "pivot = rules_fp[rules_fp['lhs items']>1].pivot(index = 'antecedents_', \n",
    "                    columns = 'consequents_', values= 'confidence')\n",
    "# Generate a heatmap with annotations \n",
    "sns.heatmap(pivot, annot = True)\n",
    "plt.title('Heat Map - For Confidence Metric')\n",
    "plt.yticks(rotation=0)\n",
    "plt.xticks(rotation=90)"
   ]
  },
  {
   "cell_type": "code",
   "execution_count": 22,
   "id": "2ada90ec",
   "metadata": {},
   "outputs": [
    {
     "name": "stdout",
     "output_type": "stream",
     "text": [
      "(100, 9)\n"
     ]
    }
   ],
   "source": [
    "rules_fp_li = association_rules(frequent_itemsets_fp, metric=\"lift\", min_threshold=0.6)\n",
    "print(rules_fp_li.shape)"
   ]
  },
  {
   "cell_type": "code",
   "execution_count": 23,
   "id": "878cc593",
   "metadata": {},
   "outputs": [
    {
     "data": {
      "text/html": [
       "<div>\n",
       "<style scoped>\n",
       "    .dataframe tbody tr th:only-of-type {\n",
       "        vertical-align: middle;\n",
       "    }\n",
       "\n",
       "    .dataframe tbody tr th {\n",
       "        vertical-align: top;\n",
       "    }\n",
       "\n",
       "    .dataframe thead th {\n",
       "        text-align: right;\n",
       "    }\n",
       "</style>\n",
       "<table border=\"1\" class=\"dataframe\">\n",
       "  <thead>\n",
       "    <tr style=\"text-align: right;\">\n",
       "      <th></th>\n",
       "      <th>antecedents</th>\n",
       "      <th>consequents</th>\n",
       "      <th>antecedent support</th>\n",
       "      <th>consequent support</th>\n",
       "      <th>support</th>\n",
       "      <th>confidence</th>\n",
       "      <th>lift</th>\n",
       "      <th>leverage</th>\n",
       "      <th>conviction</th>\n",
       "      <th>lhs items</th>\n",
       "    </tr>\n",
       "  </thead>\n",
       "  <tbody>\n",
       "    <tr>\n",
       "      <th>92</th>\n",
       "      <td>(ChildBks, ArtBks)</td>\n",
       "      <td>(GeogBks)</td>\n",
       "      <td>0.1625</td>\n",
       "      <td>0.2760</td>\n",
       "      <td>0.1020</td>\n",
       "      <td>0.627692</td>\n",
       "      <td>2.274247</td>\n",
       "      <td>0.057150</td>\n",
       "      <td>1.944628</td>\n",
       "      <td>2</td>\n",
       "    </tr>\n",
       "    <tr>\n",
       "      <th>81</th>\n",
       "      <td>(CookBks, DoItYBks)</td>\n",
       "      <td>(ArtBks)</td>\n",
       "      <td>0.1875</td>\n",
       "      <td>0.2410</td>\n",
       "      <td>0.1015</td>\n",
       "      <td>0.541333</td>\n",
       "      <td>2.246196</td>\n",
       "      <td>0.056313</td>\n",
       "      <td>1.654797</td>\n",
       "      <td>2</td>\n",
       "    </tr>\n",
       "    <tr>\n",
       "      <th>86</th>\n",
       "      <td>(CookBks, ArtBks)</td>\n",
       "      <td>(GeogBks)</td>\n",
       "      <td>0.1670</td>\n",
       "      <td>0.2760</td>\n",
       "      <td>0.1035</td>\n",
       "      <td>0.619760</td>\n",
       "      <td>2.245509</td>\n",
       "      <td>0.057408</td>\n",
       "      <td>1.904063</td>\n",
       "      <td>2</td>\n",
       "    </tr>\n",
       "    <tr>\n",
       "      <th>87</th>\n",
       "      <td>(CookBks, GeogBks)</td>\n",
       "      <td>(ArtBks)</td>\n",
       "      <td>0.1925</td>\n",
       "      <td>0.2410</td>\n",
       "      <td>0.1035</td>\n",
       "      <td>0.537662</td>\n",
       "      <td>2.230964</td>\n",
       "      <td>0.057107</td>\n",
       "      <td>1.641657</td>\n",
       "      <td>2</td>\n",
       "    </tr>\n",
       "    <tr>\n",
       "      <th>58</th>\n",
       "      <td>(ChildBks, CookBks)</td>\n",
       "      <td>(RefBks)</td>\n",
       "      <td>0.2560</td>\n",
       "      <td>0.2145</td>\n",
       "      <td>0.1225</td>\n",
       "      <td>0.478516</td>\n",
       "      <td>2.230842</td>\n",
       "      <td>0.067588</td>\n",
       "      <td>1.506277</td>\n",
       "      <td>2</td>\n",
       "    </tr>\n",
       "  </tbody>\n",
       "</table>\n",
       "</div>"
      ],
      "text/plain": [
       "            antecedents consequents  antecedent support  consequent support  \\\n",
       "92   (ChildBks, ArtBks)   (GeogBks)              0.1625              0.2760   \n",
       "81  (CookBks, DoItYBks)    (ArtBks)              0.1875              0.2410   \n",
       "86    (CookBks, ArtBks)   (GeogBks)              0.1670              0.2760   \n",
       "87   (CookBks, GeogBks)    (ArtBks)              0.1925              0.2410   \n",
       "58  (ChildBks, CookBks)    (RefBks)              0.2560              0.2145   \n",
       "\n",
       "    support  confidence      lift  leverage  conviction  lhs items  \n",
       "92   0.1020    0.627692  2.274247  0.057150    1.944628          2  \n",
       "81   0.1015    0.541333  2.246196  0.056313    1.654797          2  \n",
       "86   0.1035    0.619760  2.245509  0.057408    1.904063          2  \n",
       "87   0.1035    0.537662  2.230964  0.057107    1.641657          2  \n",
       "58   0.1225    0.478516  2.230842  0.067588    1.506277          2  "
      ]
     },
     "execution_count": 23,
     "metadata": {},
     "output_type": "execute_result"
    }
   ],
   "source": [
    "rules_fp_li['lhs items'] = rules_fp_li['antecedents'].apply(lambda x:len(x) )\n",
    "rules_fp_li[rules_fp_li['lhs items']>1].sort_values('lift', ascending=False).head()"
   ]
  },
  {
   "cell_type": "code",
   "execution_count": 24,
   "id": "25b1c8e3",
   "metadata": {
    "scrolled": true
   },
   "outputs": [
    {
     "data": {
      "text/plain": [
       "(array([0.5, 1.5, 2.5, 3.5, 4.5, 5.5, 6.5]),\n",
       " [Text(0.5, 0, 'ArtBks'),\n",
       "  Text(1.5, 0, 'ChildBks'),\n",
       "  Text(2.5, 0, 'CookBks'),\n",
       "  Text(3.5, 0, 'DoItYBks'),\n",
       "  Text(4.5, 0, 'GeogBks'),\n",
       "  Text(5.5, 0, 'RefBks'),\n",
       "  Text(6.5, 0, 'YouthBks')])"
      ]
     },
     "execution_count": 24,
     "metadata": {},
     "output_type": "execute_result"
    },
    {
     "data": {
      "image/png": "[encoded data removed]",
      "text/plain": [
       "<Figure size 432x288 with 2 Axes>"
      ]
     },
     "metadata": {
      "needs_background": "light"
     },
     "output_type": "display_data"
    }
   ],
   "source": [
    "# Replace frozen sets with strings\n",
    "rules_fp_li['antecedents_'] = rules_fp_li['antecedents'].apply(lambda a: ','.join(list(a)))\n",
    "rules_fp_li['consequents_'] = rules_fp_li['consequents'].apply(lambda a: ','.join(list(a)))\n",
    "# Transform the DataFrame of rules into a matrix using the lift metric\n",
    "pivot = rules_fp_li[rules_fp_li['lhs items']>1].pivot(index = 'antecedents_', \n",
    "                    columns = 'consequents_', values= 'lift')\n",
    "# Generate a heatmap with annotations on and the colorbar off\n",
    "sns.heatmap(pivot, annot = True)\n",
    "plt.title('Heat Map - For Lift Metric')\n",
    "plt.yticks(rotation=0)\n",
    "plt.xticks(rotation=90)"
   ]
  },
  {
   "cell_type": "code",
   "execution_count": null,
   "id": "3402134d",
   "metadata": {},
   "outputs": [],
   "source": []
  },
  {
   "cell_type": "code",
   "execution_count": null,
   "id": "c95688ec",
   "metadata": {},
   "outputs": [],
   "source": []
  },
  {
   "cell_type": "code",
   "execution_count": null,
   "id": "28dda4f2",
   "metadata": {},
   "outputs": [],
   "source": []
  },
  {
   "cell_type": "code",
   "execution_count": null,
   "id": "31c92601",
   "metadata": {},
   "outputs": [],
   "source": [
    "Q2]"
   ]
  },
  {
   "cell_type": "code",
   "execution_count": null,
   "id": "cafafff9",
   "metadata": {},
   "outputs": [],
   "source": [
    "###MY MOVIES Dataset"
   ]
  },
  {
   "cell_type": "code",
   "execution_count": 25,
   "id": "d6f29a04",
   "metadata": {},
   "outputs": [
    {
     "data": {
      "text/html": [
       "<div>\n",
       "<style scoped>\n",
       "    .dataframe tbody tr th:only-of-type {\n",
       "        vertical-align: middle;\n",
       "    }\n",
       "\n",
       "    .dataframe tbody tr th {\n",
       "        vertical-align: top;\n",
       "    }\n",
       "\n",
       "    .dataframe thead th {\n",
       "        text-align: right;\n",
       "    }\n",
       "</style>\n",
       "<table border=\"1\" class=\"dataframe\">\n",
       "  <thead>\n",
       "    <tr style=\"text-align: right;\">\n",
       "      <th></th>\n",
       "      <th>V1</th>\n",
       "      <th>V2</th>\n",
       "      <th>V3</th>\n",
       "      <th>V4</th>\n",
       "      <th>V5</th>\n",
       "      <th>Sixth Sense</th>\n",
       "      <th>Gladiator</th>\n",
       "      <th>LOTR1</th>\n",
       "      <th>Harry Potter1</th>\n",
       "      <th>Patriot</th>\n",
       "      <th>LOTR2</th>\n",
       "      <th>Harry Potter2</th>\n",
       "      <th>LOTR</th>\n",
       "      <th>Braveheart</th>\n",
       "      <th>Green Mile</th>\n",
       "    </tr>\n",
       "  </thead>\n",
       "  <tbody>\n",
       "    <tr>\n",
       "      <th>0</th>\n",
       "      <td>Sixth Sense</td>\n",
       "      <td>LOTR1</td>\n",
       "      <td>Harry Potter1</td>\n",
       "      <td>Green Mile</td>\n",
       "      <td>LOTR2</td>\n",
       "      <td>1</td>\n",
       "      <td>0</td>\n",
       "      <td>1</td>\n",
       "      <td>1</td>\n",
       "      <td>0</td>\n",
       "      <td>1</td>\n",
       "      <td>0</td>\n",
       "      <td>0</td>\n",
       "      <td>0</td>\n",
       "      <td>1</td>\n",
       "    </tr>\n",
       "    <tr>\n",
       "      <th>1</th>\n",
       "      <td>Gladiator</td>\n",
       "      <td>Patriot</td>\n",
       "      <td>Braveheart</td>\n",
       "      <td>NaN</td>\n",
       "      <td>NaN</td>\n",
       "      <td>0</td>\n",
       "      <td>1</td>\n",
       "      <td>0</td>\n",
       "      <td>0</td>\n",
       "      <td>1</td>\n",
       "      <td>0</td>\n",
       "      <td>0</td>\n",
       "      <td>0</td>\n",
       "      <td>1</td>\n",
       "      <td>0</td>\n",
       "    </tr>\n",
       "    <tr>\n",
       "      <th>2</th>\n",
       "      <td>LOTR1</td>\n",
       "      <td>LOTR2</td>\n",
       "      <td>NaN</td>\n",
       "      <td>NaN</td>\n",
       "      <td>NaN</td>\n",
       "      <td>0</td>\n",
       "      <td>0</td>\n",
       "      <td>1</td>\n",
       "      <td>0</td>\n",
       "      <td>0</td>\n",
       "      <td>1</td>\n",
       "      <td>0</td>\n",
       "      <td>0</td>\n",
       "      <td>0</td>\n",
       "      <td>0</td>\n",
       "    </tr>\n",
       "    <tr>\n",
       "      <th>3</th>\n",
       "      <td>Gladiator</td>\n",
       "      <td>Patriot</td>\n",
       "      <td>Sixth Sense</td>\n",
       "      <td>NaN</td>\n",
       "      <td>NaN</td>\n",
       "      <td>1</td>\n",
       "      <td>1</td>\n",
       "      <td>0</td>\n",
       "      <td>0</td>\n",
       "      <td>1</td>\n",
       "      <td>0</td>\n",
       "      <td>0</td>\n",
       "      <td>0</td>\n",
       "      <td>0</td>\n",
       "      <td>0</td>\n",
       "    </tr>\n",
       "    <tr>\n",
       "      <th>4</th>\n",
       "      <td>Gladiator</td>\n",
       "      <td>Patriot</td>\n",
       "      <td>Sixth Sense</td>\n",
       "      <td>NaN</td>\n",
       "      <td>NaN</td>\n",
       "      <td>1</td>\n",
       "      <td>1</td>\n",
       "      <td>0</td>\n",
       "      <td>0</td>\n",
       "      <td>1</td>\n",
       "      <td>0</td>\n",
       "      <td>0</td>\n",
       "      <td>0</td>\n",
       "      <td>0</td>\n",
       "      <td>0</td>\n",
       "    </tr>\n",
       "  </tbody>\n",
       "</table>\n",
       "</div>"
      ],
      "text/plain": [
       "            V1       V2             V3          V4     V5  Sixth Sense  \\\n",
       "0  Sixth Sense    LOTR1  Harry Potter1  Green Mile  LOTR2            1   \n",
       "1    Gladiator  Patriot     Braveheart         NaN    NaN            0   \n",
       "2        LOTR1    LOTR2            NaN         NaN    NaN            0   \n",
       "3    Gladiator  Patriot    Sixth Sense         NaN    NaN            1   \n",
       "4    Gladiator  Patriot    Sixth Sense         NaN    NaN            1   \n",
       "\n",
       "   Gladiator  LOTR1  Harry Potter1  Patriot  LOTR2  Harry Potter2  LOTR  \\\n",
       "0          0      1              1        0      1              0     0   \n",
       "1          1      0              0        1      0              0     0   \n",
       "2          0      1              0        0      1              0     0   \n",
       "3          1      0              0        1      0              0     0   \n",
       "4          1      0              0        1      0              0     0   \n",
       "\n",
       "   Braveheart  Green Mile  \n",
       "0           0           1  \n",
       "1           1           0  \n",
       "2           0           0  \n",
       "3           0           0  \n",
       "4           0           0  "
      ]
     },
     "execution_count": 25,
     "metadata": {},
     "output_type": "execute_result"
    }
   ],
   "source": [
    "movie=pd.read_csv('https://excelr.s3.nl-ams.scw.cloud/DataScience-Assignments/Assignments/association%20rules/my_movies.csv')\n",
    "movie.head()"
   ]
  },
  {
   "cell_type": "code",
   "execution_count": 26,
   "id": "c97f9a15",
   "metadata": {},
   "outputs": [
    {
     "name": "stdout",
     "output_type": "stream",
     "text": [
      "Categorical variables:\n",
      "['V1', 'V2', 'V3', 'V4', 'V5']\n"
     ]
    }
   ],
   "source": [
    "# Get list of categorical variables\n",
    "s = (movie.dtypes == 'object')\n",
    "object_cols = list(s[s].index)\n",
    "\n",
    "print(\"Categorical variables:\")\n",
    "print(object_cols)"
   ]
  },
  {
   "cell_type": "code",
   "execution_count": 27,
   "id": "d92f7e17",
   "metadata": {},
   "outputs": [
    {
     "data": {
      "text/html": [
       "<div>\n",
       "<style scoped>\n",
       "    .dataframe tbody tr th:only-of-type {\n",
       "        vertical-align: middle;\n",
       "    }\n",
       "\n",
       "    .dataframe tbody tr th {\n",
       "        vertical-align: top;\n",
       "    }\n",
       "\n",
       "    .dataframe thead th {\n",
       "        text-align: right;\n",
       "    }\n",
       "</style>\n",
       "<table border=\"1\" class=\"dataframe\">\n",
       "  <thead>\n",
       "    <tr style=\"text-align: right;\">\n",
       "      <th></th>\n",
       "      <th>Sixth Sense</th>\n",
       "      <th>Gladiator</th>\n",
       "      <th>LOTR1</th>\n",
       "      <th>Harry Potter1</th>\n",
       "      <th>Patriot</th>\n",
       "      <th>LOTR2</th>\n",
       "      <th>Harry Potter2</th>\n",
       "      <th>LOTR</th>\n",
       "      <th>Braveheart</th>\n",
       "      <th>Green Mile</th>\n",
       "    </tr>\n",
       "  </thead>\n",
       "  <tbody>\n",
       "    <tr>\n",
       "      <th>0</th>\n",
       "      <td>1</td>\n",
       "      <td>0</td>\n",
       "      <td>1</td>\n",
       "      <td>1</td>\n",
       "      <td>0</td>\n",
       "      <td>1</td>\n",
       "      <td>0</td>\n",
       "      <td>0</td>\n",
       "      <td>0</td>\n",
       "      <td>1</td>\n",
       "    </tr>\n",
       "    <tr>\n",
       "      <th>1</th>\n",
       "      <td>0</td>\n",
       "      <td>1</td>\n",
       "      <td>0</td>\n",
       "      <td>0</td>\n",
       "      <td>1</td>\n",
       "      <td>0</td>\n",
       "      <td>0</td>\n",
       "      <td>0</td>\n",
       "      <td>1</td>\n",
       "      <td>0</td>\n",
       "    </tr>\n",
       "    <tr>\n",
       "      <th>2</th>\n",
       "      <td>0</td>\n",
       "      <td>0</td>\n",
       "      <td>1</td>\n",
       "      <td>0</td>\n",
       "      <td>0</td>\n",
       "      <td>1</td>\n",
       "      <td>0</td>\n",
       "      <td>0</td>\n",
       "      <td>0</td>\n",
       "      <td>0</td>\n",
       "    </tr>\n",
       "    <tr>\n",
       "      <th>3</th>\n",
       "      <td>1</td>\n",
       "      <td>1</td>\n",
       "      <td>0</td>\n",
       "      <td>0</td>\n",
       "      <td>1</td>\n",
       "      <td>0</td>\n",
       "      <td>0</td>\n",
       "      <td>0</td>\n",
       "      <td>0</td>\n",
       "      <td>0</td>\n",
       "    </tr>\n",
       "    <tr>\n",
       "      <th>4</th>\n",
       "      <td>1</td>\n",
       "      <td>1</td>\n",
       "      <td>0</td>\n",
       "      <td>0</td>\n",
       "      <td>1</td>\n",
       "      <td>0</td>\n",
       "      <td>0</td>\n",
       "      <td>0</td>\n",
       "      <td>0</td>\n",
       "      <td>0</td>\n",
       "    </tr>\n",
       "  </tbody>\n",
       "</table>\n",
       "</div>"
      ],
      "text/plain": [
       "   Sixth Sense  Gladiator  LOTR1  Harry Potter1  Patriot  LOTR2  \\\n",
       "0            1          0      1              1        0      1   \n",
       "1            0          1      0              0        1      0   \n",
       "2            0          0      1              0        0      1   \n",
       "3            1          1      0              0        1      0   \n",
       "4            1          1      0              0        1      0   \n",
       "\n",
       "   Harry Potter2  LOTR  Braveheart  Green Mile  \n",
       "0              0     0           0           1  \n",
       "1              0     0           1           0  \n",
       "2              0     0           0           0  \n",
       "3              0     0           0           0  \n",
       "4              0     0           0           0  "
      ]
     },
     "execution_count": 27,
     "metadata": {},
     "output_type": "execute_result"
    }
   ],
   "source": [
    "num_movie = movie.iloc[:,5:15]\n",
    "num_movie.head()"
   ]
  },
  {
   "cell_type": "code",
   "execution_count": null,
   "id": "a1087620",
   "metadata": {},
   "outputs": [],
   "source": [
    "###Apriori Algorithm"
   ]
  },
  {
   "cell_type": "code",
   "execution_count": 28,
   "id": "4ee33ea4",
   "metadata": {},
   "outputs": [
    {
     "name": "stdout",
     "output_type": "stream",
     "text": [
      "\r",
      "Processing 42 combinations | Sampling itemset size 2\r",
      "Processing 27 combinations | Sampling itemset size 3\n",
      "   support         itemsets\n",
      "0      0.6    (Sixth Sense)\n",
      "1      0.7      (Gladiator)\n",
      "2      0.2          (LOTR1)\n",
      "3      0.2  (Harry Potter1)\n",
      "4      0.6        (Patriot)\n"
     ]
    },
    {
     "name": "stderr",
     "output_type": "stream",
     "text": [
      "C:\\Users\\Anuj M\\AppData\\Roaming\\Python\\Python39\\site-packages\\mlxtend\\frequent_patterns\\fpcommon.py:111: DeprecationWarning: DataFrames with non-bool types result in worse computationalperformance and their support might be discontinued in the future.Please use a DataFrame with bool type\n",
      "  warnings.warn(\n"
     ]
    }
   ],
   "source": [
    "frequent_itemsets_ap = apriori(num_movie, min_support=0.15, use_colnames=True,verbose=1)\n",
    "print(frequent_itemsets_ap.head())"
   ]
  },
  {
   "cell_type": "code",
   "execution_count": 29,
   "id": "bf6e4872",
   "metadata": {},
   "outputs": [
    {
     "data": {
      "text/plain": [
       "(13, 2)"
      ]
     },
     "execution_count": 29,
     "metadata": {},
     "output_type": "execute_result"
    }
   ],
   "source": [
    "frequent_itemsets_ap.sort_values(\"support\", ascending = False).shape"
   ]
  },
  {
   "cell_type": "code",
   "execution_count": 30,
   "id": "472c496c",
   "metadata": {},
   "outputs": [
    {
     "name": "stdout",
     "output_type": "stream",
     "text": [
      "     antecedents    consequents  antecedent support  consequent support  \\\n",
      "0    (Gladiator)  (Sixth Sense)                 0.7                 0.6   \n",
      "1  (Sixth Sense)    (Gladiator)                 0.6                 0.7   \n",
      "2      (Patriot)  (Sixth Sense)                 0.6                 0.6   \n",
      "3  (Sixth Sense)      (Patriot)                 0.6                 0.6   \n",
      "4   (Green Mile)  (Sixth Sense)                 0.2                 0.6   \n",
      "\n",
      "   support  confidence      lift  leverage  conviction  \n",
      "0      0.5    0.714286  1.190476      0.08         1.4  \n",
      "1      0.5    0.833333  1.190476      0.08         1.8  \n",
      "2      0.4    0.666667  1.111111      0.04         1.2  \n",
      "3      0.4    0.666667  1.111111      0.04         1.2  \n",
      "4      0.2    1.000000  1.666667      0.08         inf  \n"
     ]
    }
   ],
   "source": [
    "rules_ap = association_rules(frequent_itemsets_ap, metric=\"confidence\", min_threshold=0.1)\n",
    "print(rules_ap.head())"
   ]
  },
  {
   "cell_type": "code",
   "execution_count": 31,
   "id": "2fb0a554",
   "metadata": {},
   "outputs": [
    {
     "data": {
      "text/plain": [
       "(15, 9)"
      ]
     },
     "execution_count": 31,
     "metadata": {},
     "output_type": "execute_result"
    }
   ],
   "source": [
    "rules_ap[(rules_ap.support > 0.015) & (rules_ap.confidence > 0.4)].sort_values(\"confidence\", ascending = False).shape"
   ]
  },
  {
   "cell_type": "code",
   "execution_count": 32,
   "id": "14b4a318",
   "metadata": {},
   "outputs": [
    {
     "data": {
      "text/html": [
       "<div>\n",
       "<style scoped>\n",
       "    .dataframe tbody tr th:only-of-type {\n",
       "        vertical-align: middle;\n",
       "    }\n",
       "\n",
       "    .dataframe tbody tr th {\n",
       "        vertical-align: top;\n",
       "    }\n",
       "\n",
       "    .dataframe thead th {\n",
       "        text-align: right;\n",
       "    }\n",
       "</style>\n",
       "<table border=\"1\" class=\"dataframe\">\n",
       "  <thead>\n",
       "    <tr style=\"text-align: right;\">\n",
       "      <th></th>\n",
       "      <th>antecedents</th>\n",
       "      <th>consequents</th>\n",
       "      <th>antecedent support</th>\n",
       "      <th>consequent support</th>\n",
       "      <th>support</th>\n",
       "      <th>confidence</th>\n",
       "      <th>lift</th>\n",
       "      <th>leverage</th>\n",
       "      <th>conviction</th>\n",
       "      <th>lhs items</th>\n",
       "    </tr>\n",
       "  </thead>\n",
       "  <tbody>\n",
       "    <tr>\n",
       "      <th>12</th>\n",
       "      <td>(Patriot, Sixth Sense)</td>\n",
       "      <td>(Gladiator)</td>\n",
       "      <td>0.4</td>\n",
       "      <td>0.7</td>\n",
       "      <td>0.4</td>\n",
       "      <td>1.000000</td>\n",
       "      <td>1.428571</td>\n",
       "      <td>0.12</td>\n",
       "      <td>inf</td>\n",
       "      <td>2</td>\n",
       "    </tr>\n",
       "    <tr>\n",
       "      <th>10</th>\n",
       "      <td>(Gladiator, Sixth Sense)</td>\n",
       "      <td>(Patriot)</td>\n",
       "      <td>0.5</td>\n",
       "      <td>0.6</td>\n",
       "      <td>0.4</td>\n",
       "      <td>0.800000</td>\n",
       "      <td>1.333333</td>\n",
       "      <td>0.10</td>\n",
       "      <td>2.0</td>\n",
       "      <td>2</td>\n",
       "    </tr>\n",
       "    <tr>\n",
       "      <th>11</th>\n",
       "      <td>(Gladiator, Patriot)</td>\n",
       "      <td>(Sixth Sense)</td>\n",
       "      <td>0.6</td>\n",
       "      <td>0.6</td>\n",
       "      <td>0.4</td>\n",
       "      <td>0.666667</td>\n",
       "      <td>1.111111</td>\n",
       "      <td>0.04</td>\n",
       "      <td>1.2</td>\n",
       "      <td>2</td>\n",
       "    </tr>\n",
       "  </tbody>\n",
       "</table>\n",
       "</div>"
      ],
      "text/plain": [
       "                 antecedents    consequents  antecedent support  \\\n",
       "12    (Patriot, Sixth Sense)    (Gladiator)                 0.4   \n",
       "10  (Gladiator, Sixth Sense)      (Patriot)                 0.5   \n",
       "11      (Gladiator, Patriot)  (Sixth Sense)                 0.6   \n",
       "\n",
       "    consequent support  support  confidence      lift  leverage  conviction  \\\n",
       "12                 0.7      0.4    1.000000  1.428571      0.12         inf   \n",
       "10                 0.6      0.4    0.800000  1.333333      0.10         2.0   \n",
       "11                 0.6      0.4    0.666667  1.111111      0.04         1.2   \n",
       "\n",
       "    lhs items  \n",
       "12          2  \n",
       "10          2  \n",
       "11          2  "
      ]
     },
     "execution_count": 32,
     "metadata": {},
     "output_type": "execute_result"
    }
   ],
   "source": [
    "rules_ap['lhs items'] = rules_ap['antecedents'].apply(lambda x:len(x) )\n",
    "rules_ap[rules_ap['lhs items']>1].sort_values('lift', ascending=False).head()"
   ]
  },
  {
   "cell_type": "code",
   "execution_count": 33,
   "id": "1803b351",
   "metadata": {},
   "outputs": [
    {
     "data": {
      "text/plain": [
       "(array([0.5, 1.5, 2.5]),\n",
       " [Text(0.5, 0, 'Gladiator'),\n",
       "  Text(1.5, 0, 'Patriot'),\n",
       "  Text(2.5, 0, 'Sixth Sense')])"
      ]
     },
     "execution_count": 33,
     "metadata": {},
     "output_type": "execute_result"
    },
    {
     "data": {
      "image/png": "[encoded data removed]",
      "text/plain": [
       "<Figure size 432x288 with 2 Axes>"
      ]
     },
     "metadata": {
      "needs_background": "light"
     },
     "output_type": "display_data"
    }
   ],
   "source": [
    "rules_ap['antecedents_'] = rules_ap['antecedents'].apply(lambda a: ','.join(list(a)))\n",
    "rules_ap['consequents_'] = rules_ap['consequents'].apply(lambda a: ','.join(list(a)))\n",
    "# Transform the DataFrame of rules into a matrix using the confidence metric\n",
    "pivot = rules_ap[rules_ap['lhs items']>1].pivot(index = 'antecedents_', \n",
    "                    columns = 'consequents_', values= 'confidence')\n",
    "# Generate a heatmap with annotations \n",
    "sns.heatmap(pivot, annot = True)\n",
    "plt.title('Heat Map - For Confidence Metric')\n",
    "plt.yticks(rotation=0)\n",
    "plt.xticks(rotation=90)"
   ]
  },
  {
   "cell_type": "code",
   "execution_count": 34,
   "id": "4eea8fcd",
   "metadata": {},
   "outputs": [
    {
     "name": "stdout",
     "output_type": "stream",
     "text": [
      "(16, 9)\n"
     ]
    }
   ],
   "source": [
    "rules_ap_li = association_rules(frequent_itemsets_ap, metric=\"lift\", min_threshold=0.8)\n",
    "print(rules_ap_li.shape)"
   ]
  },
  {
   "cell_type": "code",
   "execution_count": 35,
   "id": "433165fd",
   "metadata": {},
   "outputs": [
    {
     "data": {
      "text/html": [
       "<div>\n",
       "<style scoped>\n",
       "    .dataframe tbody tr th:only-of-type {\n",
       "        vertical-align: middle;\n",
       "    }\n",
       "\n",
       "    .dataframe tbody tr th {\n",
       "        vertical-align: top;\n",
       "    }\n",
       "\n",
       "    .dataframe thead th {\n",
       "        text-align: right;\n",
       "    }\n",
       "</style>\n",
       "<table border=\"1\" class=\"dataframe\">\n",
       "  <thead>\n",
       "    <tr style=\"text-align: right;\">\n",
       "      <th></th>\n",
       "      <th>antecedents</th>\n",
       "      <th>consequents</th>\n",
       "      <th>antecedent support</th>\n",
       "      <th>consequent support</th>\n",
       "      <th>support</th>\n",
       "      <th>confidence</th>\n",
       "      <th>lift</th>\n",
       "      <th>leverage</th>\n",
       "      <th>conviction</th>\n",
       "      <th>lhs items</th>\n",
       "    </tr>\n",
       "  </thead>\n",
       "  <tbody>\n",
       "    <tr>\n",
       "      <th>12</th>\n",
       "      <td>(Patriot, Sixth Sense)</td>\n",
       "      <td>(Gladiator)</td>\n",
       "      <td>0.4</td>\n",
       "      <td>0.7</td>\n",
       "      <td>0.4</td>\n",
       "      <td>1.000000</td>\n",
       "      <td>1.428571</td>\n",
       "      <td>0.12</td>\n",
       "      <td>inf</td>\n",
       "      <td>2</td>\n",
       "    </tr>\n",
       "    <tr>\n",
       "      <th>10</th>\n",
       "      <td>(Gladiator, Sixth Sense)</td>\n",
       "      <td>(Patriot)</td>\n",
       "      <td>0.5</td>\n",
       "      <td>0.6</td>\n",
       "      <td>0.4</td>\n",
       "      <td>0.800000</td>\n",
       "      <td>1.333333</td>\n",
       "      <td>0.10</td>\n",
       "      <td>2.0</td>\n",
       "      <td>2</td>\n",
       "    </tr>\n",
       "    <tr>\n",
       "      <th>11</th>\n",
       "      <td>(Gladiator, Patriot)</td>\n",
       "      <td>(Sixth Sense)</td>\n",
       "      <td>0.6</td>\n",
       "      <td>0.6</td>\n",
       "      <td>0.4</td>\n",
       "      <td>0.666667</td>\n",
       "      <td>1.111111</td>\n",
       "      <td>0.04</td>\n",
       "      <td>1.2</td>\n",
       "      <td>2</td>\n",
       "    </tr>\n",
       "  </tbody>\n",
       "</table>\n",
       "</div>"
      ],
      "text/plain": [
       "                 antecedents    consequents  antecedent support  \\\n",
       "12    (Patriot, Sixth Sense)    (Gladiator)                 0.4   \n",
       "10  (Gladiator, Sixth Sense)      (Patriot)                 0.5   \n",
       "11      (Gladiator, Patriot)  (Sixth Sense)                 0.6   \n",
       "\n",
       "    consequent support  support  confidence      lift  leverage  conviction  \\\n",
       "12                 0.7      0.4    1.000000  1.428571      0.12         inf   \n",
       "10                 0.6      0.4    0.800000  1.333333      0.10         2.0   \n",
       "11                 0.6      0.4    0.666667  1.111111      0.04         1.2   \n",
       "\n",
       "    lhs items  \n",
       "12          2  \n",
       "10          2  \n",
       "11          2  "
      ]
     },
     "execution_count": 35,
     "metadata": {},
     "output_type": "execute_result"
    }
   ],
   "source": [
    "rules_ap_li['lhs items'] = rules_ap_li['antecedents'].apply(lambda x:len(x) )\n",
    "rules_ap_li[rules_ap_li['lhs items']>1].sort_values('lift', ascending=False).head()"
   ]
  },
  {
   "cell_type": "code",
   "execution_count": 36,
   "id": "7465a707",
   "metadata": {},
   "outputs": [
    {
     "data": {
      "text/plain": [
       "(array([0.5, 1.5, 2.5]),\n",
       " [Text(0.5, 0, 'Gladiator'),\n",
       "  Text(1.5, 0, 'Patriot'),\n",
       "  Text(2.5, 0, 'Sixth Sense')])"
      ]
     },
     "execution_count": 36,
     "metadata": {},
     "output_type": "execute_result"
    },
    {
     "data": {
      "image/png": "[encoded data removed]",
      "text/plain": [
       "<Figure size 432x288 with 2 Axes>"
      ]
     },
     "metadata": {
      "needs_background": "light"
     },
     "output_type": "display_data"
    }
   ],
   "source": [
    "# Replace frozen sets with strings\n",
    "rules_ap_li['antecedents_'] = rules_ap_li['antecedents'].apply(lambda a: ','.join(list(a)))\n",
    "rules_ap_li['consequents_'] = rules_ap_li['consequents'].apply(lambda a: ','.join(list(a)))\n",
    "# Transform the DataFrame of rules into a matrix using the lift metric\n",
    "pivot = rules_ap_li[rules_ap_li['lhs items']>1].pivot(index = 'antecedents_', \n",
    "                    columns = 'consequents_', values= 'lift')\n",
    "# Generate a heatmap with annotations on and the colorbar off\n",
    "sns.heatmap(pivot, annot = True)\n",
    "plt.title('Heat Map - For Lift Metric')\n",
    "plt.yticks(rotation=0)\n",
    "plt.xticks(rotation=90)"
   ]
  },
  {
   "cell_type": "code",
   "execution_count": null,
   "id": "6fa244f9",
   "metadata": {},
   "outputs": [],
   "source": [
    "##FpGrowth Algorithm"
   ]
  },
  {
   "cell_type": "code",
   "execution_count": 37,
   "id": "6ded26e8",
   "metadata": {},
   "outputs": [
    {
     "name": "stdout",
     "output_type": "stream",
     "text": [
      "\r",
      "10 itemset(s) from tree conditioned on items ()\n",
      "\r",
      "3 itemset(s) from tree conditioned on items (Sixth Sense)\n",
      "\r",
      "3 itemset(s) from tree conditioned on items (Green Mile)\n",
      "\r",
      "3 itemset(s) from tree conditioned on items (LOTR2)\n",
      "\r",
      "7 itemset(s) from tree conditioned on items (Harry Potter1)\n",
      "\r",
      "15 itemset(s) from tree conditioned on items (LOTR1)\n",
      "\r",
      "0 itemset(s) from tree conditioned on items (Gladiator)\n",
      "\r",
      "1 itemset(s) from tree conditioned on items (Patriot)\n",
      "\r",
      "3 itemset(s) from tree conditioned on items (Braveheart)\n",
      "\r",
      "1 itemset(s) from tree conditioned on items (Harry Potter2)\n",
      "\r",
      "7 itemset(s) from tree conditioned on items (LOTR)\n",
      "(53, 2)\n"
     ]
    },
    {
     "name": "stderr",
     "output_type": "stream",
     "text": [
      "C:\\Users\\Anuj M\\AppData\\Roaming\\Python\\Python39\\site-packages\\mlxtend\\frequent_patterns\\fpcommon.py:111: DeprecationWarning: DataFrames with non-bool types result in worse computationalperformance and their support might be discontinued in the future.Please use a DataFrame with bool type\n",
      "  warnings.warn(\n"
     ]
    }
   ],
   "source": [
    "frequent_itemsets_fp=fpgrowth(num_movie, min_support=0.1, use_colnames=True,verbose=1)\n",
    "print(frequent_itemsets_fp.shape)"
   ]
  },
  {
   "cell_type": "code",
   "execution_count": 38,
   "id": "d07d1dd0",
   "metadata": {},
   "outputs": [
    {
     "data": {
      "text/html": [
       "<div>\n",
       "<style scoped>\n",
       "    .dataframe tbody tr th:only-of-type {\n",
       "        vertical-align: middle;\n",
       "    }\n",
       "\n",
       "    .dataframe tbody tr th {\n",
       "        vertical-align: top;\n",
       "    }\n",
       "\n",
       "    .dataframe thead th {\n",
       "        text-align: right;\n",
       "    }\n",
       "</style>\n",
       "<table border=\"1\" class=\"dataframe\">\n",
       "  <thead>\n",
       "    <tr style=\"text-align: right;\">\n",
       "      <th></th>\n",
       "      <th>support</th>\n",
       "      <th>itemsets</th>\n",
       "    </tr>\n",
       "  </thead>\n",
       "  <tbody>\n",
       "    <tr>\n",
       "      <th>5</th>\n",
       "      <td>0.7</td>\n",
       "      <td>(Gladiator)</td>\n",
       "    </tr>\n",
       "    <tr>\n",
       "      <th>0</th>\n",
       "      <td>0.6</td>\n",
       "      <td>(Sixth Sense)</td>\n",
       "    </tr>\n",
       "    <tr>\n",
       "      <th>41</th>\n",
       "      <td>0.6</td>\n",
       "      <td>(Gladiator, Patriot)</td>\n",
       "    </tr>\n",
       "    <tr>\n",
       "      <th>6</th>\n",
       "      <td>0.6</td>\n",
       "      <td>(Patriot)</td>\n",
       "    </tr>\n",
       "    <tr>\n",
       "      <th>10</th>\n",
       "      <td>0.5</td>\n",
       "      <td>(Gladiator, Sixth Sense)</td>\n",
       "    </tr>\n",
       "  </tbody>\n",
       "</table>\n",
       "</div>"
      ],
      "text/plain": [
       "    support                  itemsets\n",
       "5       0.7               (Gladiator)\n",
       "0       0.6             (Sixth Sense)\n",
       "41      0.6      (Gladiator, Patriot)\n",
       "6       0.6                 (Patriot)\n",
       "10      0.5  (Gladiator, Sixth Sense)"
      ]
     },
     "execution_count": 38,
     "metadata": {},
     "output_type": "execute_result"
    }
   ],
   "source": [
    "frequent_itemsets_fp.sort_values(\"support\", ascending = False).head()"
   ]
  },
  {
   "cell_type": "code",
   "execution_count": 39,
   "id": "bb2d70be",
   "metadata": {},
   "outputs": [
    {
     "name": "stdout",
     "output_type": "stream",
     "text": [
      "                antecedents    consequents  antecedent support  \\\n",
      "0             (Sixth Sense)    (Gladiator)                 0.6   \n",
      "1  (Gladiator, Sixth Sense)      (Patriot)                 0.5   \n",
      "2    (Patriot, Sixth Sense)    (Gladiator)                 0.4   \n",
      "3              (Green Mile)  (Sixth Sense)                 0.2   \n",
      "4   (Green Mile, Gladiator)  (Sixth Sense)                 0.1   \n",
      "\n",
      "   consequent support  support  confidence      lift  leverage  conviction  \n",
      "0                 0.7      0.5    0.833333  1.190476      0.08         1.8  \n",
      "1                 0.6      0.4    0.800000  1.333333      0.10         2.0  \n",
      "2                 0.7      0.4    1.000000  1.428571      0.12         inf  \n",
      "3                 0.6      0.2    1.000000  1.666667      0.08         inf  \n",
      "4                 0.6      0.1    1.000000  1.666667      0.04         inf  \n"
     ]
    }
   ],
   "source": [
    "rules_fp = association_rules(frequent_itemsets_fp, metric=\"confidence\", min_threshold=0.8)\n",
    "print(rules_fp.head())"
   ]
  },
  {
   "cell_type": "code",
   "execution_count": 40,
   "id": "85b4ff8b",
   "metadata": {},
   "outputs": [
    {
     "data": {
      "text/plain": [
       "(8, 9)"
      ]
     },
     "execution_count": 40,
     "metadata": {},
     "output_type": "execute_result"
    }
   ],
   "source": [
    "rules_fp[(rules_fp.support > 0.1) & (rules_fp.confidence > 0.4)].sort_values(\"confidence\", ascending = False).shape"
   ]
  },
  {
   "cell_type": "code",
   "execution_count": 41,
   "id": "5c79744e",
   "metadata": {},
   "outputs": [
    {
     "data": {
      "text/html": [
       "<div>\n",
       "<style scoped>\n",
       "    .dataframe tbody tr th:only-of-type {\n",
       "        vertical-align: middle;\n",
       "    }\n",
       "\n",
       "    .dataframe tbody tr th {\n",
       "        vertical-align: top;\n",
       "    }\n",
       "\n",
       "    .dataframe thead th {\n",
       "        text-align: right;\n",
       "    }\n",
       "</style>\n",
       "<table border=\"1\" class=\"dataframe\">\n",
       "  <thead>\n",
       "    <tr style=\"text-align: right;\">\n",
       "      <th></th>\n",
       "      <th>antecedents</th>\n",
       "      <th>consequents</th>\n",
       "      <th>antecedent support</th>\n",
       "      <th>consequent support</th>\n",
       "      <th>support</th>\n",
       "      <th>confidence</th>\n",
       "      <th>lift</th>\n",
       "      <th>leverage</th>\n",
       "      <th>conviction</th>\n",
       "      <th>lhs items</th>\n",
       "    </tr>\n",
       "  </thead>\n",
       "  <tbody>\n",
       "    <tr>\n",
       "      <th>82</th>\n",
       "      <td>(Green Mile, LOTR2, LOTR1)</td>\n",
       "      <td>(Harry Potter1, Sixth Sense)</td>\n",
       "      <td>0.1</td>\n",
       "      <td>0.1</td>\n",
       "      <td>0.1</td>\n",
       "      <td>1.0</td>\n",
       "      <td>10.0</td>\n",
       "      <td>0.09</td>\n",
       "      <td>inf</td>\n",
       "      <td>3</td>\n",
       "    </tr>\n",
       "    <tr>\n",
       "      <th>22</th>\n",
       "      <td>(Harry Potter1, Sixth Sense)</td>\n",
       "      <td>(Green Mile, LOTR2)</td>\n",
       "      <td>0.1</td>\n",
       "      <td>0.1</td>\n",
       "      <td>0.1</td>\n",
       "      <td>1.0</td>\n",
       "      <td>10.0</td>\n",
       "      <td>0.09</td>\n",
       "      <td>inf</td>\n",
       "      <td>2</td>\n",
       "    </tr>\n",
       "    <tr>\n",
       "      <th>63</th>\n",
       "      <td>(Green Mile, LOTR1)</td>\n",
       "      <td>(LOTR2, Sixth Sense)</td>\n",
       "      <td>0.1</td>\n",
       "      <td>0.1</td>\n",
       "      <td>0.1</td>\n",
       "      <td>1.0</td>\n",
       "      <td>10.0</td>\n",
       "      <td>0.09</td>\n",
       "      <td>inf</td>\n",
       "      <td>2</td>\n",
       "    </tr>\n",
       "    <tr>\n",
       "      <th>87</th>\n",
       "      <td>(LOTR2, LOTR1, Sixth Sense)</td>\n",
       "      <td>(Green Mile, Harry Potter1)</td>\n",
       "      <td>0.1</td>\n",
       "      <td>0.1</td>\n",
       "      <td>0.1</td>\n",
       "      <td>1.0</td>\n",
       "      <td>10.0</td>\n",
       "      <td>0.09</td>\n",
       "      <td>inf</td>\n",
       "      <td>3</td>\n",
       "    </tr>\n",
       "    <tr>\n",
       "      <th>86</th>\n",
       "      <td>(Harry Potter1, LOTR2, Sixth Sense)</td>\n",
       "      <td>(Green Mile, LOTR1)</td>\n",
       "      <td>0.1</td>\n",
       "      <td>0.1</td>\n",
       "      <td>0.1</td>\n",
       "      <td>1.0</td>\n",
       "      <td>10.0</td>\n",
       "      <td>0.09</td>\n",
       "      <td>inf</td>\n",
       "      <td>3</td>\n",
       "    </tr>\n",
       "  </tbody>\n",
       "</table>\n",
       "</div>"
      ],
      "text/plain": [
       "                            antecedents                   consequents  \\\n",
       "82           (Green Mile, LOTR2, LOTR1)  (Harry Potter1, Sixth Sense)   \n",
       "22         (Harry Potter1, Sixth Sense)           (Green Mile, LOTR2)   \n",
       "63                  (Green Mile, LOTR1)          (LOTR2, Sixth Sense)   \n",
       "87          (LOTR2, LOTR1, Sixth Sense)   (Green Mile, Harry Potter1)   \n",
       "86  (Harry Potter1, LOTR2, Sixth Sense)           (Green Mile, LOTR1)   \n",
       "\n",
       "    antecedent support  consequent support  support  confidence  lift  \\\n",
       "82                 0.1                 0.1      0.1         1.0  10.0   \n",
       "22                 0.1                 0.1      0.1         1.0  10.0   \n",
       "63                 0.1                 0.1      0.1         1.0  10.0   \n",
       "87                 0.1                 0.1      0.1         1.0  10.0   \n",
       "86                 0.1                 0.1      0.1         1.0  10.0   \n",
       "\n",
       "    leverage  conviction  lhs items  \n",
       "82      0.09         inf          3  \n",
       "22      0.09         inf          2  \n",
       "63      0.09         inf          2  \n",
       "87      0.09         inf          3  \n",
       "86      0.09         inf          3  "
      ]
     },
     "execution_count": 41,
     "metadata": {},
     "output_type": "execute_result"
    }
   ],
   "source": [
    "rules_fp['lhs items'] = rules_fp['antecedents'].apply(lambda x:len(x) )\n",
    "rules_fp[rules_fp['lhs items']>1].sort_values('lift', ascending=False).head()"
   ]
  },
  {
   "cell_type": "code",
   "execution_count": 42,
   "id": "6610bbfb",
   "metadata": {},
   "outputs": [
    {
     "data": {
      "text/plain": [
       "(array([ 0.5,  2.5,  4.5,  6.5,  8.5, 10.5, 12.5, 14.5, 16.5, 18.5, 20.5,\n",
       "        22.5, 24.5, 26.5, 28.5]),\n",
       " [Text(0.5, 0, 'Gladiator'),\n",
       "  Text(2.5, 0, 'Green Mile'),\n",
       "  Text(4.5, 0, 'Green Mile,Harry Potter1'),\n",
       "  Text(6.5, 0, 'Green Mile,Harry Potter1,LOTR2'),\n",
       "  Text(8.5, 0, 'Green Mile,LOTR1,Sixth Sense'),\n",
       "  Text(10.5, 0, 'Green Mile,LOTR2,LOTR1'),\n",
       "  Text(12.5, 0, 'Green Mile,Sixth Sense'),\n",
       "  Text(14.5, 0, 'Harry Potter1,LOTR1'),\n",
       "  Text(16.5, 0, 'Harry Potter1,LOTR2'),\n",
       "  Text(18.5, 0, 'Harry Potter1,Sixth Sense'),\n",
       "  Text(20.5, 0, 'LOTR,Sixth Sense'),\n",
       "  Text(22.5, 0, 'LOTR1,Sixth Sense'),\n",
       "  Text(24.5, 0, 'LOTR2,LOTR1'),\n",
       "  Text(26.5, 0, 'LOTR2,Sixth Sense'),\n",
       "  Text(28.5, 0, 'Sixth Sense')])"
      ]
     },
     "execution_count": 42,
     "metadata": {},
     "output_type": "execute_result"
    },
    {
     "data": {
      "image/png": "[encoded data removed]",
      "text/plain": [
       "<Figure size 432x288 with 2 Axes>"
      ]
     },
     "metadata": {
      "needs_background": "light"
     },
     "output_type": "display_data"
    }
   ],
   "source": [
    "rules_fp['antecedents_'] = rules_fp['antecedents'].apply(lambda a: ','.join(list(a)))\n",
    "rules_fp['consequents_'] = rules_fp['consequents'].apply(lambda a: ','.join(list(a)))\n",
    "# Transform the DataFrame of rules into a matrix using the confidence metric\n",
    "pivot = rules_fp[rules_fp['lhs items']>1].pivot(index = 'antecedents_', \n",
    "                    columns = 'consequents_', values= 'confidence')\n",
    "# Generate a heatmap with annotations \n",
    "sns.heatmap(pivot, annot = True)\n",
    "plt.title('Heat Map - For Confidence Metric')\n",
    "plt.yticks(rotation=0)\n",
    "plt.xticks(rotation=90)"
   ]
  },
  {
   "cell_type": "code",
   "execution_count": 43,
   "id": "d783baf6",
   "metadata": {},
   "outputs": [
    {
     "name": "stdout",
     "output_type": "stream",
     "text": [
      "(246, 9)\n"
     ]
    }
   ],
   "source": [
    "rules_fp_li = association_rules(frequent_itemsets_fp, metric=\"lift\", min_threshold=0.8)\n",
    "print(rules_fp_li.shape)"
   ]
  },
  {
   "cell_type": "code",
   "execution_count": 44,
   "id": "16ef6d64",
   "metadata": {},
   "outputs": [
    {
     "data": {
      "text/html": [
       "<div>\n",
       "<style scoped>\n",
       "    .dataframe tbody tr th:only-of-type {\n",
       "        vertical-align: middle;\n",
       "    }\n",
       "\n",
       "    .dataframe tbody tr th {\n",
       "        vertical-align: top;\n",
       "    }\n",
       "\n",
       "    .dataframe thead th {\n",
       "        text-align: right;\n",
       "    }\n",
       "</style>\n",
       "<table border=\"1\" class=\"dataframe\">\n",
       "  <thead>\n",
       "    <tr style=\"text-align: right;\">\n",
       "      <th></th>\n",
       "      <th>antecedents</th>\n",
       "      <th>consequents</th>\n",
       "      <th>antecedent support</th>\n",
       "      <th>consequent support</th>\n",
       "      <th>support</th>\n",
       "      <th>confidence</th>\n",
       "      <th>lift</th>\n",
       "      <th>leverage</th>\n",
       "      <th>conviction</th>\n",
       "      <th>lhs items</th>\n",
       "    </tr>\n",
       "  </thead>\n",
       "  <tbody>\n",
       "    <tr>\n",
       "      <th>116</th>\n",
       "      <td>(Harry Potter1, LOTR1)</td>\n",
       "      <td>(Green Mile, LOTR2)</td>\n",
       "      <td>0.1</td>\n",
       "      <td>0.1</td>\n",
       "      <td>0.1</td>\n",
       "      <td>1.0</td>\n",
       "      <td>10.0</td>\n",
       "      <td>0.09</td>\n",
       "      <td>inf</td>\n",
       "      <td>2</td>\n",
       "    </tr>\n",
       "    <tr>\n",
       "      <th>221</th>\n",
       "      <td>(Green Mile, Gladiator)</td>\n",
       "      <td>(LOTR)</td>\n",
       "      <td>0.1</td>\n",
       "      <td>0.1</td>\n",
       "      <td>0.1</td>\n",
       "      <td>1.0</td>\n",
       "      <td>10.0</td>\n",
       "      <td>0.09</td>\n",
       "      <td>inf</td>\n",
       "      <td>2</td>\n",
       "    </tr>\n",
       "    <tr>\n",
       "      <th>114</th>\n",
       "      <td>(Green Mile, LOTR1)</td>\n",
       "      <td>(Harry Potter1, LOTR2)</td>\n",
       "      <td>0.1</td>\n",
       "      <td>0.1</td>\n",
       "      <td>0.1</td>\n",
       "      <td>1.0</td>\n",
       "      <td>10.0</td>\n",
       "      <td>0.09</td>\n",
       "      <td>inf</td>\n",
       "      <td>2</td>\n",
       "    </tr>\n",
       "    <tr>\n",
       "      <th>115</th>\n",
       "      <td>(Harry Potter1, LOTR2)</td>\n",
       "      <td>(Green Mile, LOTR1)</td>\n",
       "      <td>0.1</td>\n",
       "      <td>0.1</td>\n",
       "      <td>0.1</td>\n",
       "      <td>1.0</td>\n",
       "      <td>10.0</td>\n",
       "      <td>0.09</td>\n",
       "      <td>inf</td>\n",
       "      <td>2</td>\n",
       "    </tr>\n",
       "    <tr>\n",
       "      <th>126</th>\n",
       "      <td>(Harry Potter1, LOTR2)</td>\n",
       "      <td>(LOTR1, Sixth Sense)</td>\n",
       "      <td>0.1</td>\n",
       "      <td>0.1</td>\n",
       "      <td>0.1</td>\n",
       "      <td>1.0</td>\n",
       "      <td>10.0</td>\n",
       "      <td>0.09</td>\n",
       "      <td>inf</td>\n",
       "      <td>2</td>\n",
       "    </tr>\n",
       "  </tbody>\n",
       "</table>\n",
       "</div>"
      ],
      "text/plain": [
       "                 antecedents             consequents  antecedent support  \\\n",
       "116   (Harry Potter1, LOTR1)     (Green Mile, LOTR2)                 0.1   \n",
       "221  (Green Mile, Gladiator)                  (LOTR)                 0.1   \n",
       "114      (Green Mile, LOTR1)  (Harry Potter1, LOTR2)                 0.1   \n",
       "115   (Harry Potter1, LOTR2)     (Green Mile, LOTR1)                 0.1   \n",
       "126   (Harry Potter1, LOTR2)    (LOTR1, Sixth Sense)                 0.1   \n",
       "\n",
       "     consequent support  support  confidence  lift  leverage  conviction  \\\n",
       "116                 0.1      0.1         1.0  10.0      0.09         inf   \n",
       "221                 0.1      0.1         1.0  10.0      0.09         inf   \n",
       "114                 0.1      0.1         1.0  10.0      0.09         inf   \n",
       "115                 0.1      0.1         1.0  10.0      0.09         inf   \n",
       "126                 0.1      0.1         1.0  10.0      0.09         inf   \n",
       "\n",
       "     lhs items  \n",
       "116          2  \n",
       "221          2  \n",
       "114          2  \n",
       "115          2  \n",
       "126          2  "
      ]
     },
     "execution_count": 44,
     "metadata": {},
     "output_type": "execute_result"
    }
   ],
   "source": [
    "rules_fp_li['lhs items'] = rules_fp_li['antecedents'].apply(lambda x:len(x) )\n",
    "rules_fp_li[rules_fp_li['lhs items']>1].sort_values('lift', ascending=False).head()"
   ]
  },
  {
   "cell_type": "code",
   "execution_count": 45,
   "id": "0e78bdbc",
   "metadata": {},
   "outputs": [
    {
     "data": {
      "text/plain": [
       "(array([ 0.5,  2.5,  4.5,  6.5,  8.5, 10.5, 12.5, 14.5, 16.5, 18.5, 20.5,\n",
       "        22.5, 24.5, 26.5, 28.5, 30.5, 32.5]),\n",
       " [Text(0.5, 0, 'Braveheart'),\n",
       "  Text(2.5, 0, 'Gladiator,Sixth Sense'),\n",
       "  Text(4.5, 0, 'Green Mile,Gladiator'),\n",
       "  Text(6.5, 0, 'Green Mile,Harry Potter1,LOTR1'),\n",
       "  Text(8.5, 0, 'Green Mile,Harry Potter1,Sixth Sense'),\n",
       "  Text(10.5, 0, 'Green Mile,LOTR1'),\n",
       "  Text(12.5, 0, 'Green Mile,LOTR2'),\n",
       "  Text(14.5, 0, 'Green Mile,LOTR2,Sixth Sense'),\n",
       "  Text(16.5, 0, 'Harry Potter1'),\n",
       "  Text(18.5, 0, 'Harry Potter1,LOTR1,Sixth Sense'),\n",
       "  Text(20.5, 0, 'Harry Potter1,LOTR2,LOTR1'),\n",
       "  Text(22.5, 0, 'Harry Potter1,Sixth Sense'),\n",
       "  Text(24.5, 0, 'LOTR,Gladiator'),\n",
       "  Text(26.5, 0, 'LOTR1'),\n",
       "  Text(28.5, 0, 'LOTR2'),\n",
       "  Text(30.5, 0, 'LOTR2,LOTR1,Sixth Sense'),\n",
       "  Text(32.5, 0, 'Patriot')])"
      ]
     },
     "execution_count": 45,
     "metadata": {},
     "output_type": "execute_result"
    },
    {
     "data": {
      "image/png": "[encoded data removed]",
      "text/plain": [
       "<Figure size 432x288 with 2 Axes>"
      ]
     },
     "metadata": {
      "needs_background": "light"
     },
     "output_type": "display_data"
    }
   ],
   "source": [
    "# Replace frozen sets with strings\n",
    "rules_fp_li['antecedents_'] = rules_fp_li['antecedents'].apply(lambda a: ','.join(list(a)))\n",
    "rules_fp_li['consequents_'] = rules_fp_li['consequents'].apply(lambda a: ','.join(list(a)))\n",
    "# Transform the DataFrame of rules into a matrix using the lift metric\n",
    "pivot = rules_fp_li[rules_fp_li['lhs items']>1].pivot(index = 'antecedents_', \n",
    "                    columns = 'consequents_', values= 'lift')\n",
    "# Generate a heatmap with annotations on and the colorbar off\n",
    "sns.heatmap(pivot, annot = True)\n",
    "plt.title('Heat Map - For Lift Metric')\n",
    "plt.yticks(rotation=0)\n",
    "plt.xticks(rotation=90)"
   ]
  },
  {
   "cell_type": "code",
   "execution_count": null,
   "id": "a4c5076e",
   "metadata": {},
   "outputs": [],
   "source": []
  }
 ],
 "metadata": {
  "kernelspec": {
   "display_name": "Python 3 (ipykernel)",
   "language": "python",
   "name": "python3"
  },
  "language_info": {
   "codemirror_mode": {
    "name": "ipython",
    "version": 3
   },
   "file_extension": ".py",
   "mimetype": "text/x-python",
   "name": "python",
   "nbconvert_exporter": "python",
   "pygments_lexer": "ipython3",
   "version": "3.9.12"
  }
 },
 "nbformat": 4,
 "nbformat_minor": 5
}
